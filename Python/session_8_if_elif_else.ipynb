{
 "cells": [
  {
   "cell_type": "markdown",
   "metadata": {},
   "source": [
    "# if, elif, else statement"
   ]
  },
  {
   "cell_type": "markdown",
   "metadata": {},
   "source": [
    "### if"
   ]
  },
  {
   "cell_type": "code",
   "execution_count": 3,
   "metadata": {},
   "outputs": [
    {
     "name": "stdout",
     "output_type": "stream",
     "text": [
      "5, 2 den büyüktür. \n"
     ]
    }
   ],
   "source": [
    "if 5 > 2:\n",
    "    print(\"5, 2 den büyüktür. \")"
   ]
  },
  {
   "cell_type": "code",
   "execution_count": 4,
   "metadata": {},
   "outputs": [
    {
     "name": "stdout",
     "output_type": "stream",
     "text": [
      "32\n"
     ]
    }
   ],
   "source": [
    "if True:\n",
    "    print(8 * 4)"
   ]
  },
  {
   "cell_type": "code",
   "execution_count": 5,
   "metadata": {},
   "outputs": [
    {
     "name": "stdout",
     "output_type": "stream",
     "text": [
      "bu kod kesinlikle çalışır. \n"
     ]
    }
   ],
   "source": [
    "if \"company\":\n",
    "    print(\"bu kod kesinlikle çalışır. \")"
   ]
  },
  {
   "cell_type": "code",
   "execution_count": 6,
   "metadata": {},
   "outputs": [],
   "source": [
    "if 5 < 2:\n",
    "    print(\"bu kod boolean sonuç False olduğu için çıktı alamayız. \")"
   ]
  },
  {
   "cell_type": "code",
   "execution_count": 10,
   "metadata": {},
   "outputs": [],
   "source": [
    "if False: # : koymayı unutma\n",
    "    print(\"elma\")"
   ]
  },
  {
   "cell_type": "code",
   "execution_count": 8,
   "metadata": {},
   "outputs": [
    {
     "name": "stdout",
     "output_type": "stream",
     "text": [
      "acaba çıktı verir mi?\n"
     ]
    }
   ],
   "source": [
    "if 8 == 8:\n",
    "    print(\"acaba çıktı verir mi?\")"
   ]
  },
  {
   "cell_type": "code",
   "execution_count": 9,
   "metadata": {},
   "outputs": [
    {
     "ename": "IndentationError",
     "evalue": "expected an indented block after 'if' statement on line 1 (2533750027.py, line 2)",
     "output_type": "error",
     "traceback": [
      "\u001b[1;36m  Cell \u001b[1;32mIn[9], line 2\u001b[1;36m\u001b[0m\n\u001b[1;33m    print(\"acaba çıktı verir mi?\")\u001b[0m\n\u001b[1;37m    ^\u001b[0m\n\u001b[1;31mIndentationError\u001b[0m\u001b[1;31m:\u001b[0m expected an indented block after 'if' statement on line 1\n"
     ]
    }
   ],
   "source": [
    "if 8 == 8:\n",
    "print(\"acaba çıktı verir mi?\")   # printden önce dört tane boşluk olmazsa çalışmaz"
   ]
  },
  {
   "cell_type": "code",
   "execution_count": 13,
   "metadata": {},
   "outputs": [
    {
     "name": "stdout",
     "output_type": "stream",
     "text": [
      "if çalışsada çalışmasa da ben çıktı veririm\n"
     ]
    }
   ],
   "source": [
    "if 5 < 4:\n",
    "    print(\"5, 4 ten küçüktür\")\n",
    "print(\"if çalışsada çalışmasa da ben çıktı veririm\")  # buradaki print if ile aynı hizada yani iften bağımsız olduğu için sonuç verir"
   ]
  },
  {
   "cell_type": "code",
   "execution_count": 18,
   "metadata": {},
   "outputs": [],
   "source": [
    "if \"\": # \"\"(boş string) False anlamına geldiği için if sonuç vermez\n",
    "    print(\"ne dersiniz\")"
   ]
  },
  {
   "cell_type": "code",
   "execution_count": 20,
   "metadata": {},
   "outputs": [
    {
     "name": "stdout",
     "output_type": "stream",
     "text": [
      "10,3 ten büyüktür\n",
      "7\n",
      "30\n",
      "28\n"
     ]
    }
   ],
   "source": [
    "if 10 > 3:\n",
    "    print(\"10,3 ten büyüktür\")\n",
    "    print(10 - 3)\n",
    "    print(10 * 3)\n",
    "    age = 10 * 3 - 2\n",
    "    print(age)      "
   ]
  },
  {
   "cell_type": "markdown",
   "metadata": {},
   "source": [
    "# if, else"
   ]
  },
  {
   "cell_type": "code",
   "execution_count": 22,
   "metadata": {},
   "outputs": [
    {
     "name": "stdout",
     "output_type": "stream",
     "text": [
      "if kısmı çalışır\n"
     ]
    }
   ],
   "source": [
    "if 5 > 4:\n",
    "    print(\"if kısmı çalışır\")\n",
    "else:\n",
    "    print(\"else kısmı çalışır\")    "
   ]
  },
  {
   "cell_type": "code",
   "execution_count": 24,
   "metadata": {},
   "outputs": [
    {
     "name": "stdout",
     "output_type": "stream",
     "text": [
      "else kısmı çalışır\n"
     ]
    }
   ],
   "source": [
    "if 5 < 4:\n",
    "    print(\"if kısmı çalışır\")\n",
    "else:\n",
    "    print(\"else kısmı çalışır\")    "
   ]
  },
  {
   "cell_type": "code",
   "execution_count": 25,
   "metadata": {},
   "outputs": [
    {
     "name": "stdout",
     "output_type": "stream",
     "text": [
      "else kısmı çalışır\n"
     ]
    }
   ],
   "source": [
    "x = 8\n",
    "if x < 5:\n",
    "    print(\"if kısmı çalışır\")\n",
    "else:\n",
    "    print(\"else kısmı çalışır\")    "
   ]
  },
  {
   "cell_type": "markdown",
   "metadata": {},
   "source": [
    "# if, elif"
   ]
  },
  {
   "cell_type": "code",
   "execution_count": 26,
   "metadata": {},
   "outputs": [
    {
     "name": "stdout",
     "output_type": "stream",
     "text": [
      "3ncü elif çalışır\n"
     ]
    }
   ],
   "source": [
    "x = 8\n",
    "if x < 8:\n",
    "    print(\"if çalışır\")\n",
    "elif x == 9:\n",
    "    print(\"1nci elif çalışır\")\n",
    "elif x > 10:\n",
    "    print(\"2nci elif çalışır\")\n",
    "elif x < 10:\n",
    "    print(\"3ncü elif çalışır\")            \n"
   ]
  },
  {
   "cell_type": "code",
   "execution_count": 27,
   "metadata": {},
   "outputs": [
    {
     "name": "stdout",
     "output_type": "stream",
     "text": [
      "2nci elif çalışır\n"
     ]
    }
   ],
   "source": [
    "x = 8\n",
    "if x < 8:\n",
    "    print(\"if çalışır\")\n",
    "elif x == 9:\n",
    "    print(\"1nci elif çalışır\")\n",
    "elif x < 10:\n",
    "    print(\"2nci elif çalışır\")\n",
    "elif x > 10:\n",
    "    print(\"3ncü elif çalışır\") "
   ]
  },
  {
   "cell_type": "code",
   "execution_count": 28,
   "metadata": {},
   "outputs": [],
   "source": [
    "x = 8\n",
    "if x < 8:\n",
    "    print(\"if çalışır\")\n",
    "elif x == 9:\n",
    "    print(\"1nci elif çalışır\")"
   ]
  },
  {
   "cell_type": "markdown",
   "metadata": {},
   "source": [
    "# if, elif, else"
   ]
  },
  {
   "cell_type": "code",
   "execution_count": 31,
   "metadata": {},
   "outputs": [
    {
     "name": "stdout",
     "output_type": "stream",
     "text": [
      "sayı 10 dan küçüktür\n"
     ]
    }
   ],
   "source": [
    "x = int(input(\"lütfen 0 ile 50 arasında bir sayı girin\"))\n",
    "\n",
    "if 0 < x < 10:\n",
    "    print(\"sayı 10 dan küçüktür\")\n",
    "elif x < 35:\n",
    "    print(\"sayı 35ten küçüktür\")    \n",
    "elif x <= 50:\n",
    "    print(\"sayı 50 e küçük veya eşittir\")    \n",
    "else:\n",
    "    print(\"sayı 0 ile 50 arasında değil \")    \n",
    "    "
   ]
  },
  {
   "cell_type": "code",
   "execution_count": 32,
   "metadata": {},
   "outputs": [
    {
     "name": "stdout",
     "output_type": "stream",
     "text": [
      "else\n"
     ]
    }
   ],
   "source": [
    "x = 4\n",
    "if x < 2:\n",
    "    print(\"if\")\n",
    "elif x > 5:\n",
    "    priny(\"elif\")\n",
    "else:\n",
    "    print(\"else\")        "
   ]
  },
  {
   "cell_type": "code",
   "execution_count": 33,
   "metadata": {},
   "outputs": [
    {
     "name": "stdout",
     "output_type": "stream",
     "text": [
      "4 ** 2\n"
     ]
    }
   ],
   "source": [
    "x = 4\n",
    "if x < 2:\n",
    "    print(\"if\")\n",
    "elif x > 5:\n",
    "    priny(\"elif\")\n",
    "else:\n",
    "    print(\"4 ** 2\") "
   ]
  },
  {
   "cell_type": "code",
   "execution_count": 41,
   "metadata": {},
   "outputs": [
    {
     "name": "stdout",
     "output_type": "stream",
     "text": [
      "Girdiğiniz değer 0 ile 15 arasında değil\n"
     ]
    }
   ],
   "source": [
    "ds = int(input(\"Son Kahootta 15 soru vardı. siz kaç dogru yaptınız\"))\n",
    "\n",
    "if ds <= 5:\n",
    "    print(\"dahi misin?\")\n",
    "elif ds <= 10:\n",
    "    print(\"şaka mısın sen?\")\n",
    "elif ds <= 15:\n",
    "    print(\"süpersin\")\n",
    "else:\n",
    "    print(\"Girdiğiniz değer 0 ile 15 arasında değil\")    "
   ]
  },
  {
   "cell_type": "code",
   "execution_count": 44,
   "metadata": {},
   "outputs": [
    {
     "name": "stdout",
     "output_type": "stream",
     "text": [
      "dahi misin?\n"
     ]
    }
   ],
   "source": [
    "ds = int(input(\"Son Kahootta 15 soru vardı. siz kaç dogru yaptınız\"))\n",
    "\n",
    "if 0 <= ds <= 5:\n",
    "    print(\"dahi misin?\")\n",
    "elif 5 < ds <= 10:\n",
    "    print(\"şaka mısın sen?\")\n",
    "elif 10 < ds <= 15:\n",
    "    print(\"süpersin\")\n",
    "else:\n",
    "    print(\"Girdiğiniz değer 0 ile 15 arasında değil\")  "
   ]
  },
  {
   "cell_type": "markdown",
   "metadata": {},
   "source": [
    "# LISTS"
   ]
  },
  {
   "cell_type": "code",
   "execution_count": null,
   "metadata": {},
   "outputs": [],
   "source": [
    "#mutable\n",
    "#iterable"
   ]
  },
  {
   "cell_type": "code",
   "execution_count": null,
   "metadata": {},
   "outputs": [],
   "source": [
    "[]\n",
    "list() # iki farklı yöntemle liste oluşturabiliriz"
   ]
  },
  {
   "cell_type": "code",
   "execution_count": 46,
   "metadata": {},
   "outputs": [
    {
     "data": {
      "text/plain": [
       "[1, 2, 3.14, 'mustafa', False]"
      ]
     },
     "execution_count": 46,
     "metadata": {},
     "output_type": "execute_result"
    }
   ],
   "source": [
    "liste_1 = [1, 2, 3.14, \"mustafa\", False] #listeler elemanlarını , ile ayırır\n",
    "liste_1"
   ]
  },
  {
   "cell_type": "code",
   "execution_count": 47,
   "metadata": {},
   "outputs": [
    {
     "data": {
      "text/plain": [
       "5"
      ]
     },
     "execution_count": 47,
     "metadata": {},
     "output_type": "execute_result"
    }
   ],
   "source": [
    "len(liste_1)"
   ]
  },
  {
   "cell_type": "code",
   "execution_count": 48,
   "metadata": {},
   "outputs": [
    {
     "data": {
      "text/plain": [
       "['c', 'o', 'm', 'p', 'a', 'n', 'y']"
      ]
     },
     "execution_count": 48,
     "metadata": {},
     "output_type": "execute_result"
    }
   ],
   "source": [
    "liste_2 = list(\"company\")\n",
    "liste_2"
   ]
  },
  {
   "cell_type": "code",
   "execution_count": 51,
   "metadata": {},
   "outputs": [
    {
     "data": {
      "text/plain": [
       "7"
      ]
     },
     "execution_count": 51,
     "metadata": {},
     "output_type": "execute_result"
    }
   ],
   "source": [
    "len(liste_2)"
   ]
  },
  {
   "cell_type": "code",
   "execution_count": 49,
   "metadata": {},
   "outputs": [
    {
     "data": {
      "text/plain": [
       "['company']"
      ]
     },
     "execution_count": 49,
     "metadata": {},
     "output_type": "execute_result"
    }
   ],
   "source": [
    "liste_3 = [\"company\"]\n",
    "liste_3"
   ]
  },
  {
   "cell_type": "code",
   "execution_count": 50,
   "metadata": {},
   "outputs": [
    {
     "data": {
      "text/plain": [
       "1"
      ]
     },
     "execution_count": 50,
     "metadata": {},
     "output_type": "execute_result"
    }
   ],
   "source": [
    "len(liste_3)"
   ]
  },
  {
   "cell_type": "code",
   "execution_count": 53,
   "metadata": {},
   "outputs": [
    {
     "data": {
      "text/plain": [
       "[2, 3, False, [1, 2, 3]]"
      ]
     },
     "execution_count": 53,
     "metadata": {},
     "output_type": "execute_result"
    }
   ],
   "source": [
    "list_4 = [2, 3, False, [1, 2, 3]]\n",
    "list_4"
   ]
  },
  {
   "cell_type": "code",
   "execution_count": 54,
   "metadata": {},
   "outputs": [
    {
     "data": {
      "text/plain": [
       "4"
      ]
     },
     "execution_count": 54,
     "metadata": {},
     "output_type": "execute_result"
    }
   ],
   "source": [
    "len(list_4)"
   ]
  },
  {
   "cell_type": "code",
   "execution_count": 55,
   "metadata": {},
   "outputs": [],
   "source": [
    "boş_liste_1 = []"
   ]
  },
  {
   "cell_type": "code",
   "execution_count": 57,
   "metadata": {},
   "outputs": [
    {
     "data": {
      "text/plain": [
       "0"
      ]
     },
     "execution_count": 57,
     "metadata": {},
     "output_type": "execute_result"
    }
   ],
   "source": [
    "len(boş_liste_1)"
   ]
  },
  {
   "cell_type": "code",
   "execution_count": 56,
   "metadata": {},
   "outputs": [],
   "source": [
    "boş_liste_2 = list()"
   ]
  },
  {
   "cell_type": "code",
   "execution_count": 58,
   "metadata": {},
   "outputs": [
    {
     "data": {
      "text/plain": [
       "0"
      ]
     },
     "execution_count": 58,
     "metadata": {},
     "output_type": "execute_result"
    }
   ],
   "source": [
    "len(boş_liste_2)"
   ]
  },
  {
   "cell_type": "code",
   "execution_count": 60,
   "metadata": {},
   "outputs": [
    {
     "data": {
      "text/plain": [
       "list"
      ]
     },
     "execution_count": 60,
     "metadata": {},
     "output_type": "execute_result"
    }
   ],
   "source": [
    "type(boş_liste_2)"
   ]
  },
  {
   "cell_type": "code",
   "execution_count": 62,
   "metadata": {},
   "outputs": [
    {
     "data": {
      "text/plain": [
       "1"
      ]
     },
     "execution_count": 62,
     "metadata": {},
     "output_type": "execute_result"
    }
   ],
   "source": [
    "liste_6 = [\"ahmet, fulya, erkan, burak\"]\n",
    "len(liste_6)"
   ]
  },
  {
   "cell_type": "code",
   "execution_count": 63,
   "metadata": {},
   "outputs": [
    {
     "data": {
      "text/plain": [
       "4"
      ]
     },
     "execution_count": 63,
     "metadata": {},
     "output_type": "execute_result"
    }
   ],
   "source": [
    "liste_6 = [\"ahmet\", \"fulya\", \"erkan\", \"burak\"]\n",
    "len(liste_6)"
   ]
  },
  {
   "cell_type": "code",
   "execution_count": 66,
   "metadata": {},
   "outputs": [
    {
     "data": {
      "text/plain": [
       "['a', 'l', 'i']"
      ]
     },
     "execution_count": 66,
     "metadata": {},
     "output_type": "execute_result"
    }
   ],
   "source": [
    "liste_10 = list(\"ali\")\n",
    "liste_10"
   ]
  },
  {
   "cell_type": "code",
   "execution_count": 65,
   "metadata": {},
   "outputs": [
    {
     "ename": "TypeError",
     "evalue": "list expected at most 1 argument, got 2",
     "output_type": "error",
     "traceback": [
      "\u001b[1;31m---------------------------------------------------------------------------\u001b[0m",
      "\u001b[1;31mTypeError\u001b[0m                                 Traceback (most recent call last)",
      "Cell \u001b[1;32mIn[65], line 1\u001b[0m\n\u001b[1;32m----> 1\u001b[0m liste_10 \u001b[38;5;241m=\u001b[39m \u001b[38;5;28;43mlist\u001b[39;49m\u001b[43m(\u001b[49m\u001b[38;5;124;43m\"\u001b[39;49m\u001b[38;5;124;43mali\u001b[39;49m\u001b[38;5;124;43m\"\u001b[39;49m\u001b[43m,\u001b[49m\u001b[43m \u001b[49m\u001b[38;5;124;43m\"\u001b[39;49m\u001b[38;5;124;43mmurat\u001b[39;49m\u001b[38;5;124;43m\"\u001b[39;49m\u001b[43m)\u001b[49m\n",
      "\u001b[1;31mTypeError\u001b[0m: list expected at most 1 argument, got 2"
     ]
    }
   ],
   "source": [
    "liste_10 = list(\"ali\", \"murat\")"
   ]
  },
  {
   "cell_type": "code",
   "execution_count": 73,
   "metadata": {},
   "outputs": [
    {
     "data": {
      "text/plain": [
       "['a', 'l', 'i', 'm', 'u', 'r', 'a', 't']"
      ]
     },
     "execution_count": 73,
     "metadata": {},
     "output_type": "execute_result"
    }
   ],
   "source": [
    "liste_10 = list(\"ali\" \"murat\")\n",
    "liste_10"
   ]
  },
  {
   "cell_type": "code",
   "execution_count": 70,
   "metadata": {},
   "outputs": [
    {
     "ename": "TypeError",
     "evalue": "'int' object is not iterable",
     "output_type": "error",
     "traceback": [
      "\u001b[1;31m---------------------------------------------------------------------------\u001b[0m",
      "\u001b[1;31mTypeError\u001b[0m                                 Traceback (most recent call last)",
      "Cell \u001b[1;32mIn[70], line 1\u001b[0m\n\u001b[1;32m----> 1\u001b[0m liste_9 \u001b[38;5;241m=\u001b[39m \u001b[38;5;28;43mlist\u001b[39;49m\u001b[43m(\u001b[49m\u001b[38;5;241;43m1234\u001b[39;49m\u001b[43m)\u001b[49m\n\u001b[0;32m      2\u001b[0m \u001b[38;5;28mlen\u001b[39m(liste_9)\n",
      "\u001b[1;31mTypeError\u001b[0m: 'int' object is not iterable"
     ]
    }
   ],
   "source": [
    "liste_9 = list(1234)\n",
    "len(liste_9)"
   ]
  },
  {
   "cell_type": "code",
   "execution_count": 71,
   "metadata": {},
   "outputs": [
    {
     "data": {
      "text/plain": [
       "1"
      ]
     },
     "execution_count": 71,
     "metadata": {},
     "output_type": "execute_result"
    }
   ],
   "source": [
    "liste_11 = [1234]\n",
    "len(liste_11)"
   ]
  },
  {
   "cell_type": "code",
   "execution_count": 74,
   "metadata": {},
   "outputs": [
    {
     "data": {
      "text/plain": [
       "[3, 4.4, 'Orkun', False, [1, 2, 3, 4, 5]]"
      ]
     },
     "execution_count": 74,
     "metadata": {},
     "output_type": "execute_result"
    }
   ],
   "source": [
    "ortaya_karişik = [3, 4.4, \"Orkun\", False, [1, 2, 3, 4, 5]]\n",
    "ortaya_karişik"
   ]
  },
  {
   "cell_type": "code",
   "execution_count": 75,
   "metadata": {},
   "outputs": [
    {
     "data": {
      "text/plain": [
       "'c'"
      ]
     },
     "execution_count": 75,
     "metadata": {},
     "output_type": "execute_result"
    }
   ],
   "source": [
    "\"company\"[0]"
   ]
  },
  {
   "cell_type": "code",
   "execution_count": 76,
   "metadata": {},
   "outputs": [
    {
     "data": {
      "text/plain": [
       "3"
      ]
     },
     "execution_count": 76,
     "metadata": {},
     "output_type": "execute_result"
    }
   ],
   "source": [
    "ortaya_karişik[0]"
   ]
  },
  {
   "cell_type": "code",
   "execution_count": 77,
   "metadata": {},
   "outputs": [
    {
     "data": {
      "text/plain": [
       "[4.4, 'Orkun', False]"
      ]
     },
     "execution_count": 77,
     "metadata": {},
     "output_type": "execute_result"
    }
   ],
   "source": [
    "ortaya_karişik[1:4]"
   ]
  },
  {
   "cell_type": "code",
   "execution_count": 79,
   "metadata": {},
   "outputs": [
    {
     "data": {
      "text/plain": [
       "'Orkun'"
      ]
     },
     "execution_count": 79,
     "metadata": {},
     "output_type": "execute_result"
    }
   ],
   "source": [
    "ortaya_karişik[2] #istediğim öğe string o zaman string metodlara devam edebilirim"
   ]
  },
  {
   "cell_type": "code",
   "execution_count": 81,
   "metadata": {},
   "outputs": [
    {
     "data": {
      "text/plain": [
       "'ORKUN'"
      ]
     },
     "execution_count": 81,
     "metadata": {},
     "output_type": "execute_result"
    }
   ],
   "source": [
    "ortaya_karişik[2].upper()"
   ]
  },
  {
   "cell_type": "code",
   "execution_count": 82,
   "metadata": {},
   "outputs": [
    {
     "data": {
      "text/plain": [
       "1"
      ]
     },
     "execution_count": 82,
     "metadata": {},
     "output_type": "execute_result"
    }
   ],
   "source": [
    "ortaya_karişik[2].upper().count(\"R\") #buradan sonra string methodlara devam edemem cevap intiger"
   ]
  },
  {
   "cell_type": "code",
   "execution_count": 87,
   "metadata": {},
   "outputs": [
    {
     "data": {
      "text/plain": [
       "5"
      ]
     },
     "execution_count": 87,
     "metadata": {},
     "output_type": "execute_result"
    }
   ],
   "source": [
    "len(ortaya_karişik[4]) # ortaya karışık listesinin 4üncü elemanının eleman sayısına ulaştım"
   ]
  },
  {
   "cell_type": "code",
   "execution_count": 88,
   "metadata": {},
   "outputs": [
    {
     "data": {
      "text/plain": [
       "4"
      ]
     },
     "execution_count": 88,
     "metadata": {},
     "output_type": "execute_result"
    }
   ],
   "source": [
    "ortaya_karişik[4][3]  # ortaya karışık listesinin 4üncü elemanının 3üncü elemanına ulaştım"
   ]
  },
  {
   "cell_type": "code",
   "execution_count": 101,
   "metadata": {},
   "outputs": [
    {
     "data": {
      "text/plain": [
       "'.'"
      ]
     },
     "execution_count": 101,
     "metadata": {},
     "output_type": "execute_result"
    }
   ],
   "source": [
    "str(ortaya_karişik[1])[1] # ortaya karışık listesinin 2inci elemanı olan floatı stringe çevirip noktaya ulaştım"
   ]
  },
  {
   "cell_type": "markdown",
   "metadata": {},
   "source": [
    "kullanıcıdan boy ve kilosunu öğrenip vki durumunu yazın. zayıf,şişman,obez gibi"
   ]
  },
  {
   "cell_type": "code",
   "execution_count": 120,
   "metadata": {},
   "outputs": [
    {
     "name": "stdout",
     "output_type": "stream",
     "text": [
      "Obez\n"
     ]
    }
   ],
   "source": [
    "kg = int(input(\"Lütfen kg cinsinden kilonuzu giriniz örn:85\"))\n",
    "boy = int(input(\"Lütfen cm cinsinden boyunuzu giriniz örn:180\"))\n",
    "vki = (kg / (boy / 100) **2)\n",
    "\n",
    "if 0 <= vki < 18.5:\n",
    "    print(\"Düşük Kilolu\")\n",
    "elif 18.5 <= vki <= 24.99:\n",
    "    print(\"Normal Kilolu\")\n",
    "elif 25.0 <= vki <= 29.99:\n",
    "    print(\"Fazla Kilolu\")     \n",
    "elif vki >=30:\n",
    "    print(\"Obez\")\n",
    "else:\n",
    "    print(\"Lütfen girdiğiniz değeri kontrol edin\")          \n",
    "\n"
   ]
  },
  {
   "cell_type": "markdown",
   "metadata": {},
   "source": [
    "1-kullanıcıdan bir sayı alın.\n",
    "2-bu sayı 3e bölünebiliyorsa \"tech\",\n",
    "3-5e bölünüyorsa \"pro\",\n",
    "4-hem 5e hem de 3e bölünebiliyorsa \"Techpro\" yazdırın.\n",
    "5-sayı bu şartların hiçbirini sağlamıyorsa sayının kendsini yazdıran python kodunu yazın,"
   ]
  },
  {
   "cell_type": "code",
   "execution_count": 132,
   "metadata": {},
   "outputs": [
    {
     "name": "stdout",
     "output_type": "stream",
     "text": [
      "Techpro\n"
     ]
    }
   ],
   "source": [
    "x = int(input(\"Lütfen bir sayı girin\"))\n",
    "\n",
    "if (x % 3 == 0) and (x % 5 == 0):\n",
    "    print(\"Techpro\")        \n",
    "elif (x % 5 == 0):\n",
    "    print(\"Pro\") \n",
    "elif (x % 3 == 0):\n",
    "    print(\"Tech\")\n",
    "else:\n",
    "    print(x)    "
   ]
  },
  {
   "cell_type": "code",
   "execution_count": 1,
   "metadata": {},
   "outputs": [
    {
     "name": "stdout",
     "output_type": "stream",
     "text": [
      "<class 'str'>\n",
      "<class 'int'>\n"
     ]
    }
   ],
   "source": [
    "x = input(\"lütfen bir sayı giiriniz\")\n",
    "y = int(x)\n",
    "print(type(x))\n",
    "print(type(y))"
   ]
  },
  {
   "cell_type": "code",
   "execution_count": null,
   "metadata": {},
   "outputs": [],
   "source": []
  }
 ],
 "metadata": {
  "kernelspec": {
   "display_name": "Python 3",
   "language": "python",
   "name": "python3"
  },
  "language_info": {
   "codemirror_mode": {
    "name": "ipython",
    "version": 3
   },
   "file_extension": ".py",
   "mimetype": "text/x-python",
   "name": "python",
   "nbconvert_exporter": "python",
   "pygments_lexer": "ipython3",
   "version": "3.11.0"
  }
 },
 "nbformat": 4,
 "nbformat_minor": 2
}
