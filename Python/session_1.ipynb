{
 "cells": [
  {
   "cell_type": "markdown",
   "metadata": {},
   "source": [
    "Markdown satırı kod satıeı değildir.Not yazabiliriz bu kısımlara"
   ]
  },
  {
   "cell_type": "code",
   "execution_count": 9,
   "metadata": {},
   "outputs": [
    {
     "name": "stdout",
     "output_type": "stream",
     "text": [
      "Hello World\n"
     ]
    }
   ],
   "source": [
    "print(\"Hello World\")"
   ]
  },
  {
   "cell_type": "code",
   "execution_count": 10,
   "metadata": {},
   "outputs": [
    {
     "ename": "NameError",
     "evalue": "name 'Print' is not defined",
     "output_type": "error",
     "traceback": [
      "\u001b[1;31m---------------------------------------------------------------------------\u001b[0m",
      "\u001b[1;31mNameError\u001b[0m                                 Traceback (most recent call last)",
      "Cell \u001b[1;32mIn[10], line 1\u001b[0m\n\u001b[1;32m----> 1\u001b[0m \u001b[43mPrint\u001b[49m(\u001b[38;5;124m\"\u001b[39m\u001b[38;5;124mHello World\u001b[39m\u001b[38;5;124m\"\u001b[39m)\n",
      "\u001b[1;31mNameError\u001b[0m: name 'Print' is not defined"
     ]
    }
   ],
   "source": [
    "Print(\"Hello World\")  #python case sensitive bir dildir.Büyük küçük harfe karşı duarlıdır.Print in P si büyük olmaz."
   ]
  },
  {
   "cell_type": "code",
   "execution_count": null,
   "metadata": {},
   "outputs": [],
   "source": [
    "print  # parantez aç kapa yapmazsak fonksiyonu çağıramayız"
   ]
  },
  {
   "cell_type": "code",
   "execution_count": 12,
   "metadata": {},
   "outputs": [
    {
     "name": "stdout",
     "output_type": "stream",
     "text": [
      "Hello World\n",
      "Merhaba Dünya\n"
     ]
    }
   ],
   "source": [
    "print(\"Hello World\")\n",
    "print(\"Merhaba Dünya\")        # python yukardan aşağıya ve soldan sağa doğru okur."
   ]
  },
  {
   "cell_type": "code",
   "execution_count": 15,
   "metadata": {},
   "outputs": [
    {
     "data": {
      "text/plain": [
       "'Hello World'"
      ]
     },
     "execution_count": 15,
     "metadata": {},
     "output_type": "execute_result"
    }
   ],
   "source": [
    "\"Hello World\"  # Burada kullandığımız jupiter benzeri not defterlerinde print yazmadan da son satırda ki kodu yazdırabiliriz.\n",
    "                               #14 üncü ve 13. satırlarda olduğu gibi."
   ]
  },
  {
   "cell_type": "code",
   "execution_count": 14,
   "metadata": {},
   "outputs": [
    {
     "data": {
      "text/plain": [
       "'Merhaba Dünya'"
      ]
     },
     "execution_count": 14,
     "metadata": {},
     "output_type": "execute_result"
    }
   ],
   "source": [
    "\"Hello World\"\n",
    "\"Merhaba Dünya\""
   ]
  },
  {
   "cell_type": "code",
   "execution_count": 17,
   "metadata": {},
   "outputs": [
    {
     "name": "stdout",
     "output_type": "stream",
     "text": [
      "tırnak işaretleri bizim için önemli\n"
     ]
    }
   ],
   "source": [
    "print(\"tırnak işaretleri bizim için önemli\")"
   ]
  },
  {
   "cell_type": "code",
   "execution_count": 18,
   "metadata": {},
   "outputs": [
    {
     "name": "stdout",
     "output_type": "stream",
     "text": [
      "tek tırnak veya çift tırnak farketmez\n"
     ]
    }
   ],
   "source": [
    "print('tek tırnak veya çift tırnak farketmez')"
   ]
  },
  {
   "cell_type": "code",
   "execution_count": 19,
   "metadata": {},
   "outputs": [
    {
     "ename": "SyntaxError",
     "evalue": "unterminated string literal (detected at line 1) (1701250429.py, line 1)",
     "output_type": "error",
     "traceback": [
      "\u001b[1;36m  Cell \u001b[1;32mIn[19], line 1\u001b[1;36m\u001b[0m\n\u001b[1;33m    print(\"çift tırnak ile başlayan tek tırnak ile bitmez')\u001b[0m\n\u001b[1;37m          ^\u001b[0m\n\u001b[1;31mSyntaxError\u001b[0m\u001b[1;31m:\u001b[0m unterminated string literal (detected at line 1)\n"
     ]
    }
   ],
   "source": [
    "print(\"çift tırnak ile başlayan tek tırnak ile bitmez')  "
   ]
  },
  {
   "cell_type": "code",
   "execution_count": 21,
   "metadata": {},
   "outputs": [
    {
     "ename": "SyntaxError",
     "evalue": "unterminated string literal (detected at line 1) (2054965664.py, line 1)",
     "output_type": "error",
     "traceback": [
      "\u001b[1;36m  Cell \u001b[1;32mIn[21], line 1\u001b[1;36m\u001b[0m\n\u001b[1;33m    print('tek tırnak ile bailayan cift tırnak ile bitmez\")\u001b[0m\n\u001b[1;37m          ^\u001b[0m\n\u001b[1;31mSyntaxError\u001b[0m\u001b[1;31m:\u001b[0m unterminated string literal (detected at line 1)\n"
     ]
    }
   ],
   "source": [
    "print('tek tırnak ile bailayan cift tırnak ile bitmez\")"
   ]
  },
  {
   "cell_type": "code",
   "execution_count": 33,
   "metadata": {},
   "outputs": [
    {
     "name": "stdout",
     "output_type": "stream",
     "text": [
      "I'am a teacher\n"
     ]
    }
   ],
   "source": [
    "print(\"I'am a teacher\")"
   ]
  },
  {
   "cell_type": "code",
   "execution_count": 35,
   "metadata": {},
   "outputs": [
    {
     "name": "stdout",
     "output_type": "stream",
     "text": [
      "üç tek tırnak ile string ifade çalıştırılabilir\n"
     ]
    }
   ],
   "source": [
    "print('''üç tek tırnak ile string ifade çalıştırılabilir''')"
   ]
  },
  {
   "cell_type": "code",
   "execution_count": 34,
   "metadata": {},
   "outputs": [
    {
     "name": "stdout",
     "output_type": "stream",
     "text": [
      "üç çift tırnakla string ifade çalıştırılabilir\n"
     ]
    }
   ],
   "source": [
    "print(\"\"\"üç çift tırnakla string ifade çalıştırılabilir\"\"\")"
   ]
  },
  {
   "cell_type": "code",
   "execution_count": 37,
   "metadata": {},
   "outputs": [
    {
     "name": "stdout",
     "output_type": "stream",
     "text": [
      "vfjjfdgfjgfjgbjfvmcxvmcvhgjnmsgnfjgnvnfsdhgjfhgsgjhshjgjsnvnnvcnmvcvcmvncmfdfdjfkdfjdktughjvnchgjhgjfhghfjghfjgfjgjdfjkkdfghfjghfjhgfjghfhgjfgjfg\n",
      "      fgfgjfghfjghfjghjfghjghjfghjfghjghfjfgjfghfghfjghfjgnmnbvmbnvnbvmnbvömnbmngjfjgkfgjkfjjgjjgjgjjtugjghgyfhfggthgyghhbnbnbnbnnbnbhhhgbghgbghghhghghhghg\n",
      "      \n"
     ]
    }
   ],
   "source": [
    "print('''vfjjfdgfjgfjgbjfvmcxvmcvhgjnmsgnfjgnvnfsdhgjfhgsgjhshjgjsnvnnvcnmvcvcmvncmfdfdjfkdfjdktughjvnchgjhgjfhghfjghfjgfjgjdfjkkdfghfjghfjhgfjghfhgjfgjfg\n",
    "      fgfgjfghfjghfjghjfghjghjfghjfghjghfjfgjfghfghfjghfjgnmnbvmbnvnbvmnbvömnbmngjfjgkfgjkfjjgjjgjgjjtugjghgyfhfggthgyghhbnbnbnbnnbnbhhhgbghgbghghhghghhghg\n",
    "      ''')"
   ]
  },
  {
   "cell_type": "code",
   "execution_count": 26,
   "metadata": {},
   "outputs": [
    {
     "name": "stdout",
     "output_type": "stream",
     "text": [
      "fjıngdfgjfhgjfgdfhgjhfgjhfgjfgfgfgjfgjfknvmnbvmnbvmbnömcnbvbmvnbvcmbnvmöbnvbnvcbnmvnbmvönbvmönbvönbmövnbmvbnmvbncövnbvmbnvmöcnböcvbnövbnövcbnöcvnbövcbnönb.\n",
      "      hcvchvbcxbvxcvbcxbvhcvbcvbcbcbvmncvbcnmvbcmvbcmvbcnvmvbmcbvmcövbn bnbvnxbcvbcjhfghghthtghfghfgjfhgkjhfgjfhgjfhdjkghfhgjfkghkjhgfjghfjghjfhgjkfhgkfghkjhgfk\n",
      "      \n"
     ]
    }
   ],
   "source": [
    "print(\"\"\"fjıngdfgjfhgjfgdfhgjhfgjhfgjfgfgfgjfgjfknvmnbvmnbvmbnömcnbvbmvnbvcmbnvmöbnvbnvcbnmvnbmvönbvmönbvönbmövnbmvbnmvbncövnbvmbnvmöcnböcvbnövbnövcbnöcvnbövcbnönb.\n",
    "      hcvchvbcxbvxcvbcxbvhcvbcvbcbcbvmncvbcnmvbcmvbcmvbcnvmvbmcbvmcövbn bnbvnxbcvbcjhfghghthtghfghfgjfhgkjhfgjfhgjfhdjkghfhgjfkghkjhgfjghfjghjfhgjkfhgkfghkjhgfk\n",
    "      \"\"\")\n",
    "\n",
    "#uzun string ifadeler yazarken üç tırnak kullanırız"
   ]
  },
  {
   "cell_type": "code",
   "execution_count": 27,
   "metadata": {},
   "outputs": [
    {
     "name": "stdout",
     "output_type": "stream",
     "text": [
      "'Samet'\n"
     ]
    }
   ],
   "source": [
    "print(\"'Samet'\")"
   ]
  },
  {
   "cell_type": "code",
   "execution_count": 28,
   "metadata": {},
   "outputs": [
    {
     "name": "stdout",
     "output_type": "stream",
     "text": [
      "'\n"
     ]
    }
   ],
   "source": [
    "print(\"'\")"
   ]
  },
  {
   "cell_type": "code",
   "execution_count": 30,
   "metadata": {},
   "outputs": [
    {
     "name": "stdout",
     "output_type": "stream",
     "text": [
      "\"'\n"
     ]
    }
   ],
   "source": [
    "print(\"\"\"\"'\"\"\")"
   ]
  },
  {
   "cell_type": "code",
   "execution_count": 31,
   "metadata": {},
   "outputs": [
    {
     "ename": "SyntaxError",
     "evalue": "unterminated string literal (detected at line 1) (3465750001.py, line 1)",
     "output_type": "error",
     "traceback": [
      "\u001b[1;36m  Cell \u001b[1;32mIn[31], line 1\u001b[1;36m\u001b[0m\n\u001b[1;33m    print(\"\"\"\"\"\"\")\u001b[0m\n\u001b[1;37m                ^\u001b[0m\n\u001b[1;31mSyntaxError\u001b[0m\u001b[1;31m:\u001b[0m unterminated string literal (detected at line 1)\n"
     ]
    }
   ],
   "source": [
    "print(\"\"\"\"\"\"\")"
   ]
  },
  {
   "cell_type": "code",
   "execution_count": 32,
   "metadata": {},
   "outputs": [
    {
     "name": "stdout",
     "output_type": "stream",
     "text": [
      "\n"
     ]
    }
   ],
   "source": [
    "print(\"\"\"\"\"\")"
   ]
  },
  {
   "cell_type": "code",
   "execution_count": 36,
   "metadata": {},
   "outputs": [
    {
     "data": {
      "text/plain": [
       "<function print(*args, sep=' ', end='\\n', file=None, flush=False)>"
      ]
     },
     "execution_count": 36,
     "metadata": {},
     "output_type": "execute_result"
    }
   ],
   "source": [
    "print"
   ]
  },
  {
   "cell_type": "code",
   "execution_count": null,
   "metadata": {},
   "outputs": [],
   "source": []
  },
  {
   "cell_type": "code",
   "execution_count": null,
   "metadata": {},
   "outputs": [],
   "source": []
  },
  {
   "cell_type": "code",
   "execution_count": null,
   "metadata": {},
   "outputs": [],
   "source": []
  },
  {
   "cell_type": "code",
   "execution_count": null,
   "metadata": {},
   "outputs": [],
   "source": []
  },
  {
   "cell_type": "code",
   "execution_count": null,
   "metadata": {},
   "outputs": [],
   "source": []
  }
 ],
 "metadata": {
  "kernelspec": {
   "display_name": "Python 3",
   "language": "python",
   "name": "python3"
  },
  "language_info": {
   "codemirror_mode": {
    "name": "ipython",
    "version": 3
   },
   "file_extension": ".py",
   "mimetype": "text/x-python",
   "name": "python",
   "nbconvert_exporter": "python",
   "pygments_lexer": "ipython3",
   "version": "3.11.0"
  }
 },
 "nbformat": 4,
 "nbformat_minor": 2
}
