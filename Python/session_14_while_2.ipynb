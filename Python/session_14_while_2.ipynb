{
 "cells": [
  {
   "cell_type": "code",
   "execution_count": 1,
   "metadata": {},
   "outputs": [
    {
     "name": "stdout",
     "output_type": "stream",
     "text": [
      "[1, 25, 12, 49, 24, 28, 225, 36, 361, 64, 625]\n"
     ]
    }
   ],
   "source": [
    "# listesinin tek elemanlarının karesini.çift olanlarının iki katını liste halinde döndüren while döngüsünü yazın.\n",
    "\n",
    "sayılar_listesi2 = [1,5,6,7,12,14,15,18,19,32,25] \n",
    "\n",
    "x = 0\n",
    "\n",
    "yeni_liste = []\n",
    "\n",
    "while x < len(sayılar_listesi2):\n",
    "\n",
    "    if sayılar_listesi2[x] % 2:\n",
    "\n",
    "        yeni_liste.append(sayılar_listesi2[x] ** 2)\n",
    "\n",
    "    else:\n",
    "\n",
    "        yeni_liste.append(sayılar_listesi2[x] * 2)\n",
    "\n",
    "    x += 1    \n",
    "\n",
    "print(yeni_liste)        "
   ]
  },
  {
   "cell_type": "markdown",
   "metadata": {},
   "source": [
    "# random modülü"
   ]
  },
  {
   "cell_type": "code",
   "execution_count": 4,
   "metadata": {},
   "outputs": [],
   "source": [
    "import random # import ifadesi modülü dosyaya aktarmak için kullanılır"
   ]
  },
  {
   "cell_type": "code",
   "execution_count": 10,
   "metadata": {},
   "outputs": [
    {
     "data": {
      "text/plain": [
       "0.904053110975908"
      ]
     },
     "execution_count": 10,
     "metadata": {},
     "output_type": "execute_result"
    }
   ],
   "source": [
    "random.random() # 0 dahil 1 dahil değil aralığınd sayılar üretir"
   ]
  },
  {
   "cell_type": "code",
   "execution_count": 13,
   "metadata": {},
   "outputs": [
    {
     "data": {
      "text/plain": [
       "0.6820045605879779"
      ]
     },
     "execution_count": 13,
     "metadata": {},
     "output_type": "execute_result"
    }
   ],
   "source": [
    "random.seed(30) #belli bir sabite göre aynı değerleri rassal olarak üretir.# öreğin burada 30 yazdık 30 yazan başka biri de aynı rassal sayııya ulaşır\n",
    "random.random()"
   ]
  },
  {
   "cell_type": "code",
   "execution_count": 58,
   "metadata": {},
   "outputs": [
    {
     "data": {
      "text/plain": [
       "6"
      ]
     },
     "execution_count": 58,
     "metadata": {},
     "output_type": "execute_result"
    }
   ],
   "source": [
    "random.randint(1,6) #girdğimiz iki sayı aralığında rastgele sayılar üretir"
   ]
  },
  {
   "cell_type": "code",
   "execution_count": 60,
   "metadata": {},
   "outputs": [
    {
     "name": "stdout",
     "output_type": "stream",
     "text": [
      "girdiğiniz sayı : 50, Tahmini arttır\n",
      "girdiğiniz sayı : 56, Tahmini arttır\n",
      "girdiğiniz sayı : 75, Tahmini arttır\n",
      "girdiğiniz sayı : 85, Tahmini azalt\n",
      "girdiğiniz sayı : 80, Doğru bildiniz Tebrikler\n"
     ]
    }
   ],
   "source": [
    "y = True\n",
    "\n",
    "aklımdaki_sayı = random.randint(1,100)\n",
    "\n",
    "while y:\n",
    "    tahmin = int(input(\"1 ile 100 arasında bir sayı tahmin ediniz.\"))\n",
    "\n",
    "    if aklımdaki_sayı < tahmin:\n",
    "        print(f\"girdiğiniz sayı : {tahmin}, Tahmini azalt\")\n",
    "\n",
    "    elif aklımdaki_sayı > tahmin:\n",
    "        print (f\"girdiğiniz sayı : {tahmin}, Tahmini arttır\")\n",
    "\n",
    "    else:\n",
    "        print(f\"girdiğiniz sayı : {tahmin}, Doğru bildiniz Tebrikler\")   \n",
    "        y = False"
   ]
  },
  {
   "cell_type": "markdown",
   "metadata": {},
   "source": [
    "## break, continue"
   ]
  },
  {
   "cell_type": "code",
   "execution_count": null,
   "metadata": {},
   "outputs": [],
   "source": [
    "aklımdaki_sayı = random.randint(1,100)         #True ile başlattık ve y = False yerine break yazdık\n",
    "\n",
    "while True:\n",
    "    tahmin = int(input(\"1 ile 100 arasında bir sayı tahmin ediniz.\"))\n",
    "\n",
    "    if aklımdaki_sayı < tahmin:\n",
    "        print(f\"girdiğiniz sayı : {tahmin}, Tahmini azalt\")\n",
    "\n",
    "    elif aklımdaki_sayı > tahmin:\n",
    "        print (f\"girdiğiniz sayı : {tahmin}, Tahmini arttır\")\n",
    "\n",
    "    else:\n",
    "        print(f\"girdiğiniz sayı : {tahmin}, Doğru bildiniz Tebrikler\")   \n",
    "        \n",
    "        break"
   ]
  },
  {
   "cell_type": "code",
   "execution_count": 63,
   "metadata": {},
   "outputs": [
    {
     "name": "stdout",
     "output_type": "stream",
     "text": [
      "girdiğiniz sayı : 5, Tahmini arttır\n",
      "girdiğiniz sayı : 96, Tahmini azalt\n",
      "girdiğiniz sayı : 75, Tahmini azalt\n",
      "girdiğiniz sayı : 65, Tahmini azalt\n",
      "girdiğiniz sayı : 5, Tahmini arttır\n",
      "5 hakkın bitti. sayı 35\n"
     ]
    }
   ],
   "source": [
    "import time\n",
    "\n",
    "aklımdaki_sayı = random.randint(1,100)         \n",
    "\n",
    "time.sleep(1)  #time sleep bazen duraklamalar olabiliyor bunları önlemek için sistem i biraz yavaşlatıyoruz.\n",
    "\n",
    "sayaç = 0\n",
    "\n",
    "while True:\n",
    "    \n",
    "    tahmin = int(input(\"1 ile 100 arasında bir sayı tahmin ediniz.\"))\n",
    "\n",
    "    sayaç += 1\n",
    "\n",
    "    if aklımdaki_sayı < tahmin:\n",
    "        print(f\"girdiğiniz sayı : {tahmin}, Tahmini azalt\")\n",
    "\n",
    "    elif aklımdaki_sayı > tahmin:\n",
    "        print (f\"girdiğiniz sayı : {tahmin}, Tahmini arttır\")\n",
    "\n",
    "    else:\n",
    "        print(f\"girdiğiniz sayı : {tahmin}, Doğru bildiniz Tebrikler\")   \n",
    "        \n",
    "        break\n",
    "    if sayaç == 5:\n",
    "        print(f\"5 hakkın bitti. sayı {aklımdaki_sayı}\")\n",
    "        break"
   ]
  },
  {
   "cell_type": "code",
   "execution_count": 65,
   "metadata": {},
   "outputs": [
    {
     "name": "stdout",
     "output_type": "stream",
     "text": [
      "10\n"
     ]
    }
   ],
   "source": [
    "liste = [1, 2, 3, 4, \"Techpro\", 5, 6, 7] # sırasıyla int değerlei toplayın. str ifadeye denk gelince kod sonlansın\n",
    "\n",
    "x = 0\n",
    "\n",
    "toplam = 0\n",
    "\n",
    "while x < len(liste):\n",
    "\n",
    "    if type(liste[x]) == int:\n",
    "        toplam += liste[x]\n",
    "\n",
    "    elif type(liste[x]) == str:\n",
    "        break\n",
    "\n",
    "    x += 1\n",
    "\n",
    "print(toplam)       "
   ]
  },
  {
   "cell_type": "code",
   "execution_count": 66,
   "metadata": {},
   "outputs": [
    {
     "name": "stdout",
     "output_type": "stream",
     "text": [
      "28\n"
     ]
    }
   ],
   "source": [
    "liste = [1, 2, 3, 4, \"Techpro\", 5, 6, 7] # sırasıyla int değerlei toplayın. str ifadeye denk gelince o ifadeyi atlayın ve devam edin\n",
    "\n",
    "x = 0\n",
    "\n",
    "toplam = 0\n",
    "\n",
    "while x < len(liste):\n",
    "\n",
    "    if type(liste[x]) == int:\n",
    "        toplam += liste[x]\n",
    "\n",
    "    elif type(liste[x]) == str:\n",
    "        x += 1\n",
    "        continue\n",
    "        \n",
    "\n",
    "    x += 1\n",
    "\n",
    "print(toplam)       "
   ]
  },
  {
   "cell_type": "markdown",
   "metadata": {},
   "source": [
    "## min(), max()"
   ]
  },
  {
   "cell_type": "code",
   "execution_count": 68,
   "metadata": {},
   "outputs": [],
   "source": [
    "liste = [2, 5, 1, 3, 9, 4, 6, 8, 15, 48, 256]"
   ]
  },
  {
   "cell_type": "code",
   "execution_count": 69,
   "metadata": {},
   "outputs": [
    {
     "data": {
      "text/plain": [
       "1"
      ]
     },
     "execution_count": 69,
     "metadata": {},
     "output_type": "execute_result"
    }
   ],
   "source": [
    "min(liste)"
   ]
  },
  {
   "cell_type": "code",
   "execution_count": 70,
   "metadata": {},
   "outputs": [
    {
     "data": {
      "text/plain": [
       "256"
      ]
     },
     "execution_count": 70,
     "metadata": {},
     "output_type": "execute_result"
    }
   ],
   "source": [
    "max(liste)"
   ]
  },
  {
   "cell_type": "code",
   "execution_count": 71,
   "metadata": {},
   "outputs": [],
   "source": [
    "tuple = (5,8,4,6,9)"
   ]
  },
  {
   "cell_type": "code",
   "execution_count": 72,
   "metadata": {},
   "outputs": [
    {
     "data": {
      "text/plain": [
       "4"
      ]
     },
     "execution_count": 72,
     "metadata": {},
     "output_type": "execute_result"
    }
   ],
   "source": [
    "min(tuple)"
   ]
  },
  {
   "cell_type": "code",
   "execution_count": 73,
   "metadata": {},
   "outputs": [
    {
     "data": {
      "text/plain": [
       "9"
      ]
     },
     "execution_count": 73,
     "metadata": {},
     "output_type": "execute_result"
    }
   ],
   "source": [
    "max(tuple)"
   ]
  },
  {
   "cell_type": "code",
   "execution_count": 74,
   "metadata": {},
   "outputs": [
    {
     "data": {
      "text/plain": [
       "'ayhan'"
      ]
     },
     "execution_count": 74,
     "metadata": {},
     "output_type": "execute_result"
    }
   ],
   "source": [
    "min([\"irem\", \"ayhan\", \"company\"]) #ascii değerlerine göre sıraladı"
   ]
  },
  {
   "cell_type": "code",
   "execution_count": 75,
   "metadata": {},
   "outputs": [
    {
     "ename": "TypeError",
     "evalue": "'<' not supported between instances of 'int' and 'str'",
     "output_type": "error",
     "traceback": [
      "\u001b[1;31m---------------------------------------------------------------------------\u001b[0m",
      "\u001b[1;31mTypeError\u001b[0m                                 Traceback (most recent call last)",
      "Cell \u001b[1;32mIn[75], line 1\u001b[0m\n\u001b[1;32m----> 1\u001b[0m \u001b[38;5;28;43mmin\u001b[39;49m\u001b[43m(\u001b[49m\u001b[43m[\u001b[49m\u001b[38;5;124;43m\"\u001b[39;49m\u001b[38;5;124;43mirem\u001b[39;49m\u001b[38;5;124;43m\"\u001b[39;49m\u001b[43m,\u001b[49m\u001b[43m \u001b[49m\u001b[38;5;124;43m\"\u001b[39;49m\u001b[38;5;124;43mayhan\u001b[39;49m\u001b[38;5;124;43m\"\u001b[39;49m\u001b[43m,\u001b[49m\u001b[43m \u001b[49m\u001b[38;5;241;43m65\u001b[39;49m\u001b[43m,\u001b[49m\u001b[43m \u001b[49m\u001b[38;5;124;43m\"\u001b[39;49m\u001b[38;5;124;43mcompany\u001b[39;49m\u001b[38;5;124;43m\"\u001b[39;49m\u001b[43m]\u001b[49m\u001b[43m)\u001b[49m\n",
      "\u001b[1;31mTypeError\u001b[0m: '<' not supported between instances of 'int' and 'str'"
     ]
    }
   ],
   "source": [
    "min([\"irem\", \"ayhan\", 65, \"company\"]) # int ve str ingler arasında sıralama yapamıyor"
   ]
  },
  {
   "cell_type": "code",
   "execution_count": null,
   "metadata": {},
   "outputs": [],
   "source": []
  }
 ],
 "metadata": {
  "kernelspec": {
   "display_name": "Python 3",
   "language": "python",
   "name": "python3"
  },
  "language_info": {
   "codemirror_mode": {
    "name": "ipython",
    "version": 3
   },
   "file_extension": ".py",
   "mimetype": "text/x-python",
   "name": "python",
   "nbconvert_exporter": "python",
   "pygments_lexer": "ipython3",
   "version": "3.11.0"
  }
 },
 "nbformat": 4,
 "nbformat_minor": 2
}
