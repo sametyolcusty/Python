{
 "cells": [
  {
   "cell_type": "markdown",
   "metadata": {},
   "source": [
    "# LOOPS"
   ]
  },
  {
   "cell_type": "markdown",
   "metadata": {},
   "source": [
    "## While\n"
   ]
  },
  {
   "cell_type": "code",
   "execution_count": null,
   "metadata": {},
   "outputs": [],
   "source": [
    "while 10 > 4: # çalıştırma sonsuz döngü,yada sen bilirsin\n",
    "    print(\"bu döngü sonsuza kadar çalışır\") # while döngüsü False görene kadar çalışır"
   ]
  },
  {
   "cell_type": "code",
   "execution_count": 1,
   "metadata": {},
   "outputs": [
    {
     "name": "stdout",
     "output_type": "stream",
     "text": [
      "bu döngü koşul sağlandıkça çıktı verir\n",
      "bu döngü koşul sağlandıkça çıktı verir\n",
      "bu döngü koşul sağlandıkça çıktı verir\n",
      "bu döngü koşul sağlandıkça çıktı verir\n",
      "bu döngü koşul sağlandıkça çıktı verir\n",
      "bu döngü koşul sağlandıkça çıktı verir\n"
     ]
    }
   ],
   "source": [
    "x = 4\n",
    "\n",
    "while 10 > x:\n",
    "    print(\"bu döngü koşul sağlandıkça çıktı verir\") #her seferinde x in değeri bir artıcak x in değeri 10 olunca 10>10 False olucak ve döngü durucak\n",
    "    x = x + 1"
   ]
  },
  {
   "cell_type": "code",
   "execution_count": 2,
   "metadata": {},
   "outputs": [
    {
     "name": "stdout",
     "output_type": "stream",
     "text": [
      "1\n",
      "2\n",
      "3\n",
      "4\n",
      "5\n",
      "6\n",
      "7\n",
      "8\n",
      "9\n"
     ]
    }
   ],
   "source": [
    "x = 1\n",
    "\n",
    "while x < 10:\n",
    "    print(x)\n",
    "    x = x+1"
   ]
  },
  {
   "cell_type": "code",
   "execution_count": null,
   "metadata": {},
   "outputs": [],
   "source": [
    "x = 1\n",
    "\n",
    "while x < 10:\n",
    "    print(x)\n",
    "    \n",
    "x = x+1 # x i while döngüsünün dışına yazarsan işlem sonsuza gider.x in yeni değerleri döngü ye etki etmez\n",
    "# x = x+1 ifadesini x += 1 olarak yazabilirsin"
   ]
  },
  {
   "cell_type": "code",
   "execution_count": null,
   "metadata": {},
   "outputs": [],
   "source": [
    "x = 1\n",
    "\n",
    "while x < 10:\n",
    "    x = x+1\n",
    "    print() #burada işlem 2 den başlar işlem yine bir yerde False bulucak ve durduracak"
   ]
  },
  {
   "cell_type": "code",
   "execution_count": null,
   "metadata": {},
   "outputs": [],
   "source": [
    "while \"\":\n",
    "    print(\"bu da çalışmaz\") #çalışmaz çünkü \"\" ifadesi False tur while False u görünce ilemi çalıştırmaz."
   ]
  },
  {
   "cell_type": "code",
   "execution_count": 5,
   "metadata": {},
   "outputs": [
    {
     "name": "stdout",
     "output_type": "stream",
     "text": [
      "while ifadesi condition False olana kadar çalışır\n"
     ]
    }
   ],
   "source": [
    "y = True\n",
    "\n",
    "while y:\n",
    "    print(\"while ifadesi condition False olana kadar çalışır\")\n",
    "    y = False    # bir kere çalıştırıp durdu çünkü while ın degeri False a dönüştü      "
   ]
  },
  {
   "cell_type": "code",
   "execution_count": null,
   "metadata": {},
   "outputs": [],
   "source": [
    "y = True\n",
    "\n",
    "while y:\n",
    "    print(\"while ifadesi condition False olana kadar çalışır\")\n",
    "y = False  #y ifadesini döngünün dışına aldım bu sonsuza gider"
   ]
  },
  {
   "cell_type": "code",
   "execution_count": 9,
   "metadata": {},
   "outputs": [
    {
     "name": "stdout",
     "output_type": "stream",
     "text": [
      "deneme 1\n",
      "deneme 2\n",
      "deneme 3\n",
      "3 deneme hakkın bitti\n"
     ]
    }
   ],
   "source": [
    "x = 1 \n",
    "\n",
    "while x <= 3:\n",
    "    print(\"deneme\", x)\n",
    "    x += 1\n",
    "\n",
    "print(\"3 deneme hakkın bitti\")    "
   ]
  },
  {
   "cell_type": "code",
   "execution_count": 10,
   "metadata": {},
   "outputs": [
    {
     "name": "stdout",
     "output_type": "stream",
     "text": [
      "deneme 1\n",
      "3 deneme hakkın bitti\n",
      "deneme 2\n",
      "3 deneme hakkın bitti\n",
      "deneme 3\n",
      "3 deneme hakkın bitti\n"
     ]
    }
   ],
   "source": [
    "x = 1 \n",
    "\n",
    "while x <= 3:\n",
    "    print(\"deneme\", x)\n",
    "    x += 1\n",
    "    print(\"3 deneme hakkın bitti\") # print döngü içinde olursa her denemeden sosnra yazdırır"
   ]
  },
  {
   "cell_type": "code",
   "execution_count": null,
   "metadata": {},
   "outputs": [],
   "source": [
    "# 1 den 5 e kadar olan sayıların karesini yazdıran while döngüsünü yazdırın"
   ]
  },
  {
   "cell_type": "code",
   "execution_count": 16,
   "metadata": {},
   "outputs": [
    {
     "name": "stdout",
     "output_type": "stream",
     "text": [
      "1 in karesi: 1\n",
      "2 in karesi: 4\n",
      "3 in karesi: 9\n",
      "4 in karesi: 16\n",
      "5 in karesi: 25\n"
     ]
    }
   ],
   "source": [
    "x = 1\n",
    "\n",
    "while x <= 5:\n",
    "    print(f\"{x} in karesi: {x ** 2}\") # f string ifadesini kullandık. print(x, \"in karesi:\", (x ** 2)) bu şekilde de yazabiliriz\n",
    "    x += 1"
   ]
  },
  {
   "cell_type": "code",
   "execution_count": 17,
   "metadata": {},
   "outputs": [],
   "source": [
    "# bir sayı tahmin oyunu oluşturucaz kullanıcının 1 ile 100 arasında bir sayı tahmin etmesini istiyoruz. "
   ]
  },
  {
   "cell_type": "code",
   "execution_count": 18,
   "metadata": {},
   "outputs": [
    {
     "name": "stdout",
     "output_type": "stream",
     "text": [
      "girdiğiniz sayı : 44, Tahmini arttır\n",
      "girdiğiniz sayı : 68, Tahmini azalt\n",
      "girdiğiniz sayı : 50, Tahmini arttır\n",
      "girdiğiniz sayı : 53, Tahmini arttır\n",
      "girdiğiniz sayı : 55, Doğru bildiniz Tebrikler\n"
     ]
    }
   ],
   "source": [
    "y = True\n",
    "\n",
    "aklımdaki_sayı = 55\n",
    "\n",
    "while y:\n",
    "    tahmin = int(input(\"1 ile 100 arasında bir sayı tahmin ediniz.\"))\n",
    "\n",
    "    if aklımdaki_sayı < tahmin:\n",
    "        print(f\"girdiğiniz sayı : {tahmin}, Tahmini azalt\")\n",
    "\n",
    "    elif aklımdaki_sayı > tahmin:\n",
    "        print (f\"girdiğiniz sayı : {tahmin}, Tahmini arttır\")\n",
    "\n",
    "    else:\n",
    "        print(f\"girdiğiniz sayı : {tahmin}, Doğru bildiniz Tebrikler\")   \n",
    "        y = False"
   ]
  },
  {
   "cell_type": "code",
   "execution_count": 26,
   "metadata": {},
   "outputs": [
    {
     "name": "stdout",
     "output_type": "stream",
     "text": [
      "girdiğiniz sayı : 15, Tahmini arttır\n",
      "girdiğiniz sayı : 35, Tahmini arttır\n",
      "girdiğiniz sayı : 50, Tahmini arttır\n",
      "girdiğiniz sayı : 52, Tahmini arttır\n",
      "girdiğiniz sayı : 55, 5 kerede bildiniz. Tebrikler\n"
     ]
    }
   ],
   "source": [
    "y = True\n",
    "\n",
    "aklımdaki_sayı = 55\n",
    "\n",
    "sayaç = 0\n",
    "\n",
    "while y:\n",
    "    tahmin = int(input(\"1 ile 100 arasında bir sayı tahmin ediniz.\"))\n",
    "\n",
    "    sayaç += 1\n",
    "    \n",
    "    if aklımdaki_sayı < tahmin:\n",
    "        print(f\"girdiğiniz sayı : {tahmin}, Tahmini azalt\")\n",
    "\n",
    "    elif aklımdaki_sayı > tahmin:\n",
    "        print (f\"girdiğiniz sayı : {tahmin}, Tahmini arttır\")\n",
    "\n",
    "    else:\n",
    "        print(f\"girdiğiniz sayı : {tahmin}, {sayaç} kerede bildiniz. Tebrikler\")   \n",
    "        \n",
    "        y = False\n",
    "    \n",
    "    if sayaç == 5:\n",
    "        y = False\n",
    "\n",
    "\n",
    "    "
   ]
  },
  {
   "cell_type": "code",
   "execution_count": 27,
   "metadata": {},
   "outputs": [],
   "source": [
    "sayılar_listesi = [1, 3, 4, 6, 5, 7]"
   ]
  },
  {
   "cell_type": "code",
   "execution_count": 31,
   "metadata": {},
   "outputs": [
    {
     "name": "stdout",
     "output_type": "stream",
     "text": [
      "1\n",
      "9\n",
      "16\n",
      "36\n",
      "25\n",
      "49\n"
     ]
    }
   ],
   "source": [
    "# listenin elemanlarının karesini yazdıran while döngüsünü yazın\n",
    "\n",
    "\n",
    "x = 0\n",
    "\n",
    "sayılar_listesi = [1, 3, 4, 6, 5, 7]\n",
    "\n",
    "while x < len(sayılar_listesi):\n",
    "\n",
    "    print(sayılar_listesi[x] ** 2)\n",
    "\n",
    "    x += 1"
   ]
  },
  {
   "cell_type": "code",
   "execution_count": 32,
   "metadata": {},
   "outputs": [
    {
     "name": "stdout",
     "output_type": "stream",
     "text": [
      "[1, 9, 16, 36, 25, 49]\n"
     ]
    }
   ],
   "source": [
    "# listenin elemanlarının karesini bir liste içinde döndüren while döngüsünü yazın.\n",
    "\n",
    "sayılar_listesi = [1, 3, 4, 6, 5, 7]\n",
    "\n",
    "x = 0\n",
    "\n",
    "kareler_listesi = []\n",
    "\n",
    "while x < len(sayılar_listesi):\n",
    "   \n",
    "   kareler_listesi.append(sayılar_listesi[x] ** 2)\n",
    "\n",
    "   x += 1\n",
    "\n",
    "print(kareler_listesi)   #print while döngüsüünün dışında"
   ]
  },
  {
   "cell_type": "code",
   "execution_count": 8,
   "metadata": {},
   "outputs": [
    {
     "name": "stdout",
     "output_type": "stream",
     "text": [
      "[16, 36]\n"
     ]
    }
   ],
   "source": [
    "# listenin elemanlarından çift olanların karesini bir liste içinde döndüren while döngüsünü yazın\n",
    "\n",
    "sayılar_listesi = [1, 3, 4, 6, 5, 7]\n",
    "\n",
    "x = 0\n",
    "\n",
    "çiftlerin_kareler_listesi = []\n",
    "\n",
    "while x < len(sayılar_listesi):\n",
    "\n",
    "    if sayılar_listesi[x] % 2 == 0:\n",
    "\n",
    "        çiftlerin_kareler_listesi.append(sayılar_listesi[x] ** 2)\n",
    "\n",
    "    x += 1\n",
    "\n",
    "print(çiftlerin_kareler_listesi)        "
   ]
  },
  {
   "cell_type": "code",
   "execution_count": null,
   "metadata": {},
   "outputs": [],
   "source": []
  },
  {
   "cell_type": "code",
   "execution_count": null,
   "metadata": {},
   "outputs": [],
   "source": []
  },
  {
   "cell_type": "code",
   "execution_count": null,
   "metadata": {},
   "outputs": [],
   "source": []
  },
  {
   "cell_type": "code",
   "execution_count": null,
   "metadata": {},
   "outputs": [],
   "source": []
  },
  {
   "cell_type": "code",
   "execution_count": null,
   "metadata": {},
   "outputs": [],
   "source": []
  }
 ],
 "metadata": {
  "kernelspec": {
   "display_name": "Python 3",
   "language": "python",
   "name": "python3"
  },
  "language_info": {
   "codemirror_mode": {
    "name": "ipython",
    "version": 3
   },
   "file_extension": ".py",
   "mimetype": "text/x-python",
   "name": "python",
   "nbconvert_exporter": "python",
   "pygments_lexer": "ipython3",
   "version": "3.11.0"
  }
 },
 "nbformat": 4,
 "nbformat_minor": 2
}
