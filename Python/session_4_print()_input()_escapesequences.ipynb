{
 "cells": [
  {
   "cell_type": "markdown",
   "metadata": {},
   "source": [
    "print() function"
   ]
  },
  {
   "cell_type": "code",
   "execution_count": 1,
   "metadata": {},
   "outputs": [
    {
     "name": "stdout",
     "output_type": "stream",
     "text": [
      "OSG Company\n"
     ]
    }
   ],
   "source": [
    "print(\"OSG Company\")"
   ]
  },
  {
   "cell_type": "code",
   "execution_count": 2,
   "metadata": {},
   "outputs": [
    {
     "name": "stdout",
     "output_type": "stream",
     "text": [
      "ahmet akif mehmet\n"
     ]
    }
   ],
   "source": [
    "print(\"ahmet\", \"akif\", \"mehmet\")"
   ]
  },
  {
   "cell_type": "code",
   "execution_count": 3,
   "metadata": {},
   "outputs": [
    {
     "name": "stdout",
     "output_type": "stream",
     "text": [
      "ahmet akif mehmet\n"
     ]
    }
   ],
   "source": [
    "print(\"ahmet\",       \"akif\",       \"mehmet\")"
   ]
  },
  {
   "cell_type": "code",
   "execution_count": 7,
   "metadata": {},
   "outputs": [
    {
     "name": "stdout",
     "output_type": "stream",
     "text": [
      "ahmet     akif     mehmet\n"
     ]
    }
   ],
   "source": [
    "print(\"ahmet\", \"akif\", \"mehmet\", sep=\"     \")"
   ]
  },
  {
   "cell_type": "code",
   "execution_count": 8,
   "metadata": {},
   "outputs": [
    {
     "name": "stdout",
     "output_type": "stream",
     "text": [
      "Help on built-in function print in module builtins:\n",
      "\n",
      "print(*args, sep=' ', end='\\n', file=None, flush=False)\n",
      "    Prints the values to a stream, or to sys.stdout by default.\n",
      "    \n",
      "    sep\n",
      "      string inserted between values, default a space.\n",
      "    end\n",
      "      string appended after the last value, default a newline.\n",
      "    file\n",
      "      a file-like object (stream); defaults to the current sys.stdout.\n",
      "    flush\n",
      "      whether to forcibly flush the stream.\n",
      "\n"
     ]
    }
   ],
   "source": [
    "help(print)"
   ]
  },
  {
   "cell_type": "code",
   "execution_count": 13,
   "metadata": {},
   "outputs": [
    {
     "name": "stdout",
     "output_type": "stream",
     "text": [
      "orkun**rauf\n",
      "faik\n"
     ]
    }
   ],
   "source": [
    "print(\"orkun\", end=\"**\") \n",
    "print(\"rauf\")\n",
    "print(\"faik\")\n"
   ]
  },
  {
   "cell_type": "code",
   "execution_count": 14,
   "metadata": {},
   "outputs": [
    {
     "name": "stdout",
     "output_type": "stream",
     "text": [
      "betul!!zeynep\n"
     ]
    }
   ],
   "source": [
    "print(\"betul\", end=\"!!\")\n",
    "print(\"zeynep\")"
   ]
  },
  {
   "cell_type": "code",
   "execution_count": 20,
   "metadata": {},
   "outputs": [
    {
     "name": "stdout",
     "output_type": "stream",
     "text": [
      "betul\n",
      "zeynep//burak ++ mert\n"
     ]
    }
   ],
   "source": [
    "print(\"betul\",)\n",
    "print(\"zeynep\", end=\"//\")\n",
    "print(\"burak\", \"mert\", sep=\" ++ \")\n"
   ]
  },
  {
   "cell_type": "code",
   "execution_count": 21,
   "metadata": {},
   "outputs": [
    {
     "name": "stdout",
     "output_type": "stream",
     "text": [
      "betul\n",
      "zeynep//burak ++ mert??"
     ]
    }
   ],
   "source": [
    "print(\"betul\",)\n",
    "print(\"zeynep\", end=\"//\")\n",
    "print(\"burak\", \"mert\", sep=\" ++ \", end=\"??\")"
   ]
  },
  {
   "cell_type": "code",
   "execution_count": 29,
   "metadata": {},
   "outputs": [
    {
     "name": "stdout",
     "output_type": "stream",
     "text": [
      "elma\n",
      "armut\n",
      "portakal\n"
     ]
    }
   ],
   "source": [
    "print(\"elma\", \"armut\", \"portakal\", sep=\"\\n\" )"
   ]
  },
  {
   "cell_type": "code",
   "execution_count": 30,
   "metadata": {},
   "outputs": [
    {
     "name": "stdout",
     "output_type": "stream",
     "text": [
      "hello world--35**40**75\n",
      "son satır\n"
     ]
    }
   ],
   "source": [
    "print(\"hello world\", end= \"--\")\n",
    "print(\"35\", \"40\", \"75\", sep= \"**\")\n",
    "print(\"son satır\")"
   ]
  },
  {
   "cell_type": "markdown",
   "metadata": {},
   "source": [
    "input()"
   ]
  },
  {
   "cell_type": "code",
   "execution_count": 31,
   "metadata": {},
   "outputs": [
    {
     "data": {
      "text/plain": [
       "<bound method Kernel.raw_input of <ipykernel.ipkernel.IPythonKernel object at 0x00000175B2A300D0>>"
      ]
     },
     "execution_count": 31,
     "metadata": {},
     "output_type": "execute_result"
    }
   ],
   "source": [
    "input"
   ]
  },
  {
   "cell_type": "code",
   "execution_count": 32,
   "metadata": {},
   "outputs": [
    {
     "data": {
      "text/plain": [
       "''"
      ]
     },
     "execution_count": 32,
     "metadata": {},
     "output_type": "execute_result"
    }
   ],
   "source": [
    "input()"
   ]
  },
  {
   "cell_type": "code",
   "execution_count": 33,
   "metadata": {},
   "outputs": [
    {
     "data": {
      "text/plain": [
       "'32'"
      ]
     },
     "execution_count": 33,
     "metadata": {},
     "output_type": "execute_result"
    }
   ],
   "source": [
    "input()"
   ]
  },
  {
   "cell_type": "code",
   "execution_count": 35,
   "metadata": {},
   "outputs": [
    {
     "data": {
      "text/plain": [
       "''"
      ]
     },
     "execution_count": 35,
     "metadata": {},
     "output_type": "execute_result"
    }
   ],
   "source": [
    "input() #input ile aldığımız bütün veriler string veri türündendir"
   ]
  },
  {
   "cell_type": "code",
   "execution_count": 45,
   "metadata": {},
   "outputs": [
    {
     "data": {
      "text/plain": [
       "''"
      ]
     },
     "execution_count": 45,
     "metadata": {},
     "output_type": "execute_result"
    }
   ],
   "source": [
    "input(\"Lütfen yasinizi giriniz\")"
   ]
  },
  {
   "cell_type": "code",
   "execution_count": 46,
   "metadata": {},
   "outputs": [],
   "source": [
    "age = input(\"Lütfen yasinizi giriniz\")"
   ]
  },
  {
   "cell_type": "code",
   "execution_count": 49,
   "metadata": {},
   "outputs": [
    {
     "name": "stdout",
     "output_type": "stream",
     "text": [
      "42\n"
     ]
    }
   ],
   "source": [
    "print(age)"
   ]
  },
  {
   "cell_type": "code",
   "execution_count": 50,
   "metadata": {},
   "outputs": [],
   "source": [
    "age = int(age) #inputun değeri string tir önce onu int e çevirdik"
   ]
  },
  {
   "cell_type": "code",
   "execution_count": 51,
   "metadata": {},
   "outputs": [
    {
     "data": {
      "text/plain": [
       "1982"
      ]
     },
     "execution_count": 51,
     "metadata": {},
     "output_type": "execute_result"
    }
   ],
   "source": [
    "2024 - age"
   ]
  },
  {
   "cell_type": "code",
   "execution_count": 55,
   "metadata": {},
   "outputs": [],
   "source": [
    "age_1 = int(input(\"lutfen yasinizi giriniz\")) #input u aldıktan sonra intiger yapmak yerine direkt int olarak alabiliriz."
   ]
  },
  {
   "cell_type": "code",
   "execution_count": 56,
   "metadata": {},
   "outputs": [
    {
     "data": {
      "text/plain": [
       "int"
      ]
     },
     "execution_count": 56,
     "metadata": {},
     "output_type": "execute_result"
    }
   ],
   "source": [
    "type(age_1)"
   ]
  },
  {
   "cell_type": "code",
   "execution_count": 3,
   "metadata": {},
   "outputs": [
    {
     "name": "stdout",
     "output_type": "stream",
     "text": [
      "Doğumyiliniz: 2000\n"
     ]
    }
   ],
   "source": [
    "age = int(input(\"lütfen yasinizi giriniz\"))\n",
    "print(\"Doğumyiliniz:\",2024 - age)"
   ]
  },
  {
   "cell_type": "markdown",
   "metadata": {},
   "source": [
    "#### Kullanıcıdan kilo ve boy bilgisini alan ve girilen bilgilere göre vücut kitle indeksini(vki) hesaplayan kodu yazın :kilo/(metre)**2"
   ]
  },
  {
   "cell_type": "code",
   "execution_count": 39,
   "metadata": {},
   "outputs": [
    {
     "name": "stdout",
     "output_type": "stream",
     "text": [
      "40.0\n"
     ]
    }
   ],
   "source": [
    "kilo = int(input(\"Lutfen kilonuzu kg cinsinden giriniz örnek:90\"))\n",
    "Boy = int(input(\"Lutfen boyunuzu cm cinsinden giriniz örnek:185\"))\n",
    "vki = kilo / ((Boy / 100) ** 2) \n",
    "print(vki)"
   ]
  },
  {
   "cell_type": "markdown",
   "metadata": {},
   "source": [
    "# Escape Sequences"
   ]
  },
  {
   "cell_type": "code",
   "execution_count": 24,
   "metadata": {},
   "outputs": [
    {
     "ename": "SyntaxError",
     "evalue": "unterminated string literal (detected at line 1) (3507620590.py, line 1)",
     "output_type": "error",
     "traceback": [
      "\u001b[1;36m  Cell \u001b[1;32mIn[24], line 1\u001b[1;36m\u001b[0m\n\u001b[1;33m    print('I'm a python Teacher')\u001b[0m\n\u001b[1;37m                               ^\u001b[0m\n\u001b[1;31mSyntaxError\u001b[0m\u001b[1;31m:\u001b[0m unterminated string literal (detected at line 1)\n"
     ]
    }
   ],
   "source": [
    "print('I'm a python Teacher')"
   ]
  },
  {
   "cell_type": "code",
   "execution_count": 23,
   "metadata": {},
   "outputs": [
    {
     "name": "stdout",
     "output_type": "stream",
     "text": [
      "I'm a python Teacher\n"
     ]
    }
   ],
   "source": [
    "print('I\\'m a python Teacher') # \\ burada bir kaçış parametresi olarak algıladı ve çalıştırdı"
   ]
  },
  {
   "cell_type": "code",
   "execution_count": 21,
   "metadata": {},
   "outputs": [
    {
     "name": "stdout",
     "output_type": "stream",
     "text": [
      "I'm a python Teacher\n"
     ]
    }
   ],
   "source": [
    "print(\"I'm a python Teacher\")"
   ]
  },
  {
   "cell_type": "code",
   "execution_count": 25,
   "metadata": {},
   "outputs": [
    {
     "name": "stdout",
     "output_type": "stream",
     "text": [
      "Bu ders çok uzadı sanki.Bi an önce bitse mi acaba?\n"
     ]
    }
   ],
   "source": [
    "print(\"Bu ders çok uzadı sanki.Bi an önce bitse mi acaba?\")"
   ]
  },
  {
   "cell_type": "code",
   "execution_count": 28,
   "metadata": {},
   "outputs": [
    {
     "name": "stdout",
     "output_type": "stream",
     "text": [
      "Bu ders çok uzadı sanki.\n",
      "Bi an önce bitse mi acaba?\n"
     ]
    }
   ],
   "source": [
    "print(\"Bu ders çok uzadı sanki.\\nBi an önce bitse mi acaba?\") # \\n burada bir kaçıi operatorü görevi gördü"
   ]
  },
  {
   "cell_type": "code",
   "execution_count": 31,
   "metadata": {},
   "outputs": [
    {
     "name": "stdout",
     "output_type": "stream",
     "text": [
      "Bu ders çok uzadı sanki.\n",
      "Bi an önce bitse mi acaba?\n"
     ]
    }
   ],
   "source": [
    "print(\"\"\"Bu ders çok uzadı sanki.\n",
    "Bi an önce bitse mi acaba?\"\"\") #tırnak ile böyle de yazabiliriz"
   ]
  },
  {
   "cell_type": "code",
   "execution_count": 2,
   "metadata": {},
   "outputs": [
    {
     "name": "stdout",
     "output_type": "stream",
     "text": [
      "elma\tarmut\tportakal\n"
     ]
    }
   ],
   "source": [
    "print(\"elma\", \"armut\", \"portakal\", sep=\"\\t\" ) #\\t bir tab tuşuna boşluğa denk gelir"
   ]
  },
  {
   "cell_type": "code",
   "execution_count": 33,
   "metadata": {},
   "outputs": [
    {
     "name": "stdout",
     "output_type": "stream",
     "text": [
      "elma\n",
      "armut\n",
      "portakal\n"
     ]
    }
   ],
   "source": [
    "print(\"elma\", \"armut\", \"portakal\", sep=\"\\n\" )"
   ]
  },
  {
   "cell_type": "code",
   "execution_count": 35,
   "metadata": {},
   "outputs": [
    {
     "name": "stdout",
     "output_type": "stream",
     "text": [
      "Bu ders çok uzadı sankiBi an önce bitse mi acaba?\n"
     ]
    }
   ],
   "source": [
    "print(\"Bu ders çok uzadı sanki.\\bBi an önce bitse mi acaba?\") #\\b burada bir backspace yani geri geldi"
   ]
  },
  {
   "cell_type": "code",
   "execution_count": 36,
   "metadata": {},
   "outputs": [
    {
     "name": "stdout",
     "output_type": "stream",
     "text": [
      "elmarmuportakal\n"
     ]
    }
   ],
   "source": [
    "print(\"elma\", \"armut\", \"portakal\", sep=\"\\b\" )"
   ]
  },
  {
   "cell_type": "code",
   "execution_count": 3,
   "metadata": {},
   "outputs": [
    {
     "name": "stdout",
     "output_type": "stream",
     "text": [
      "Bu ders çok uzadı sanki.\\nBi an önce bitse mi acaba?\n"
     ]
    }
   ],
   "source": [
    "print(r\"Bu ders çok uzadı sanki.\\nBi an önce bitse mi acaba?\") # normalde \\n bir alt satıra geçmesi lazım ama \n",
    "#r koyunca değişikliği izin vermez"
   ]
  },
  {
   "cell_type": "code",
   "execution_count": 5,
   "metadata": {},
   "outputs": [
    {
     "name": "stdout",
     "output_type": "stream",
     "text": [
      "Hi everyone.\n",
      "Hope you guys are \"doing good. it is good \tto practice\n"
     ]
    }
   ],
   "source": [
    "print(\"Hi everyone.\\nHope you guys are \\\"doing good..\\b it is good \\tto practice\")"
   ]
  },
  {
   "cell_type": "code",
   "execution_count": null,
   "metadata": {},
   "outputs": [],
   "source": []
  },
  {
   "cell_type": "code",
   "execution_count": null,
   "metadata": {},
   "outputs": [],
   "source": []
  },
  {
   "cell_type": "code",
   "execution_count": null,
   "metadata": {},
   "outputs": [],
   "source": []
  },
  {
   "cell_type": "code",
   "execution_count": null,
   "metadata": {},
   "outputs": [],
   "source": []
  }
 ],
 "metadata": {
  "kernelspec": {
   "display_name": "Python 3",
   "language": "python",
   "name": "python3"
  },
  "language_info": {
   "codemirror_mode": {
    "name": "ipython",
    "version": 3
   },
   "file_extension": ".py",
   "mimetype": "text/x-python",
   "name": "python",
   "nbconvert_exporter": "python",
   "pygments_lexer": "ipython3",
   "version": "3.11.0"
  }
 },
 "nbformat": 4,
 "nbformat_minor": 2
}
