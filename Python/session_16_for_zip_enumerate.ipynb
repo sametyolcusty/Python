{
 "cells": [
  {
   "cell_type": "code",
   "execution_count": null,
   "metadata": {},
   "outputs": [],
   "source": [
    "#SORU 1, kullanıcıdan 1 (dahil) ve 9 (dahil) arasında bir sayı isteyin bu sayının çarpım tablosunu oluşturun."
   ]
  },
  {
   "cell_type": "code",
   "execution_count": 4,
   "metadata": {},
   "outputs": [
    {
     "name": "stdout",
     "output_type": "stream",
     "text": [
      "8 x 0  = 0\n",
      "8 x 1  = 8\n",
      "8 x 2  = 16\n",
      "8 x 3  = 24\n",
      "8 x 4  = 32\n",
      "8 x 5  = 40\n",
      "8 x 6  = 48\n",
      "8 x 7  = 56\n",
      "8 x 8  = 64\n",
      "8 x 9  = 72\n",
      "8 x 10 = 80\n"
     ]
    }
   ],
   "source": [
    "number = int(input(\"Bir sayı girin.1 ve 9 arasında\"))\n",
    "\n",
    "if 1 <= number <= 9:\n",
    "\n",
    "    for i in range(0,11):\n",
    "\n",
    "        print(f\"{number} x {i:<2} = {number * i}\")\n",
    "\n",
    "else:\n",
    "    print(\"Girdiğiniz sayı 1 ile 9 arasında değil.\")        "
   ]
  },
  {
   "cell_type": "code",
   "execution_count": 2,
   "metadata": {},
   "outputs": [],
   "source": [
    "#SORU 2, kullanıcıdan 1 (dahil) ve 9 (dahil) arasında bir sayı isteyin bu sayının çarpım tablosunu oluşturun.\n",
    "#kullanıcı bu aralıktan farklı bir değer girdiysetekrar doğru bir değer girmesini isteyin."
   ]
  },
  {
   "cell_type": "code",
   "execution_count": 22,
   "metadata": {},
   "outputs": [
    {
     "name": "stdout",
     "output_type": "stream",
     "text": [
      "Girdiğiniz sayı 1 ile 9 arasında değil. Tekrar sayı girin\n",
      "Girdiğiniz sayı 1 ile 9 arasında değil. Tekrar sayı girin\n",
      "Girdiğiniz sayı 1 ile 9 arasında değil. Tekrar sayı girin\n",
      "Girdiğiniz sayı 1 ile 9 arasında değil. Tekrar sayı girin\n",
      "8 x 0  = 0\n",
      "8 x 1  = 8\n",
      "8 x 2  = 16\n",
      "8 x 3  = 24\n",
      "8 x 4  = 32\n",
      "8 x 5  = 40\n",
      "8 x 6  = 48\n",
      "8 x 7  = 56\n",
      "8 x 8  = 64\n",
      "8 x 9  = 72\n",
      "8 x 10 = 80\n"
     ]
    }
   ],
   "source": [
    "#SORU 2, birinci çözüm   hak vermedik sayı aralığında değer yazdırıncaya kadar devam eder.\n",
    "\n",
    "while True:                                              #while içinde for veya for içinde while kullanabiliriz bunun adı nested iç içe döngü.\n",
    "\n",
    "    number = int(input(\"Bir sayı girin.1 ve 9 arasında\"))\n",
    "\n",
    "    if 1 <= number <= 9:\n",
    "\n",
    "        for i in range(0,11):\n",
    "\n",
    "            print(f\"{number} x {i:<2} = {number * i}\")\n",
    "\n",
    "        break\n",
    "\n",
    "    else: print(\"Girdiğiniz sayı 1 ile 9 arasında değil. Tekrar sayı girin\") \n",
    "\n",
    "    "
   ]
  },
  {
   "cell_type": "code",
   "execution_count": 30,
   "metadata": {},
   "outputs": [
    {
     "name": "stdout",
     "output_type": "stream",
     "text": [
      "Girdiğiniz sayı 1 ile 9 arasında değil. Tekrar sayı girin\n",
      "Girdiğiniz sayı 1 ile 9 arasında değil. Tekrar sayı girin\n",
      "Girdiğiniz sayı 1 ile 9 arasında değil. Tekrar sayı girin\n",
      "Girdiğiniz sayı 1 ile 9 arasında değil. Tekrar sayı girin\n",
      "Girdiğiniz sayı 1 ile 9 arasında değil. Tekrar sayı girin\n",
      "4 x 0  = 0\n",
      "4 x 1  = 4\n",
      "4 x 2  = 8\n",
      "4 x 3  = 12\n",
      "4 x 4  = 16\n",
      "4 x 5  = 20\n",
      "4 x 6  = 24\n",
      "4 x 7  = 28\n",
      "4 x 8  = 32\n",
      "4 x 9  = 36\n",
      "4 x 10 = 40\n"
     ]
    }
   ],
   "source": [
    "#SORU 2, ikinci çözüm   hak vermedik sayı aralığında değer yazdırıncaya kadar devam eder.\n",
    "\n",
    "while True:                                              \n",
    "\n",
    "    number = int(input(\"Bir sayı girin.1 ve 9 arasında\"))\n",
    "\n",
    "    if 1 <= number <= 9:\n",
    "\n",
    "        for i in range(0,11):\n",
    "\n",
    "            print(f\"{number} x {i:<2} = {number * i}\")\n",
    "\n",
    "        break\n",
    "\n",
    "    else:\n",
    "        print(\"Girdiğiniz sayı 1 ile 9 arasında değil. Tekrar sayı girin\")\n",
    "        \n"
   ]
  },
  {
   "cell_type": "code",
   "execution_count": 28,
   "metadata": {},
   "outputs": [
    {
     "name": "stdout",
     "output_type": "stream",
     "text": [
      "Girdiğiniz sayı 1 ile 9 arasında değil. Tekrar sayı girin\n",
      "Girdiğiniz sayı 1 ile 9 arasında değil. Tekrar sayı girin\n",
      "Girdiğiniz sayı 1 ile 9 arasında değil. Tekrar sayı girin\n"
     ]
    }
   ],
   "source": [
    "#soru 2,üçüncü çözüm yolu 3 deneme hakkı ekledik\n",
    "\n",
    "sayaç = 0\n",
    "\n",
    "while True:                                              \n",
    "\n",
    "    number = int(input(\"Bir sayı girin.1 ve 9 arasında\"))\n",
    "\n",
    "    sayaç += 1\n",
    "\n",
    "    if 1 <= number <= 9:\n",
    "\n",
    "        for i in [0,2,3,4,5,6,7,8,9,10]:  # burada range(0,11) yerine list oluşturduk\n",
    "\n",
    "            print(f\"{number} x {i:<2} = {number * i}\")\n",
    "\n",
    "        break\n",
    "\n",
    "    else:\n",
    "        print(\"Girdiğiniz sayı 1 ile 9 arasında değil. Tekrar sayı girin\")\n",
    "\n",
    "    if sayaç == 3:\n",
    "        break   "
   ]
  },
  {
   "cell_type": "code",
   "execution_count": null,
   "metadata": {},
   "outputs": [],
   "source": [
    "# SORU 1 den 50(50 dahil) sayıların toplamını bulan kodu yazdırın.  matematikte kullanılan formül budur (n * (n + 1)) / 2"
   ]
  },
  {
   "cell_type": "code",
   "execution_count": 32,
   "metadata": {},
   "outputs": [
    {
     "data": {
      "text/plain": [
       "1275"
      ]
     },
     "execution_count": 32,
     "metadata": {},
     "output_type": "execute_result"
    }
   ],
   "source": [
    "# çözüm bir ,#sum komutu bu soruyu çözmeye yarar\n",
    "sum(range(1,51))"
   ]
  },
  {
   "cell_type": "code",
   "execution_count": null,
   "metadata": {},
   "outputs": [],
   "source": [
    "# çözüm iki,\n",
    "toplam = 0\n",
    "\n",
    "for i in range(1,51):\n",
    "    toplam += i\n",
    "\n",
    "print(toplam)    "
   ]
  },
  {
   "cell_type": "code",
   "execution_count": 33,
   "metadata": {},
   "outputs": [
    {
     "data": {
      "text/plain": [
       "16"
      ]
     },
     "execution_count": 33,
     "metadata": {},
     "output_type": "execute_result"
    }
   ],
   "source": [
    "sum([1,2,5,8,]) # liste olabilir"
   ]
  },
  {
   "cell_type": "code",
   "execution_count": 34,
   "metadata": {},
   "outputs": [
    {
     "data": {
      "text/plain": [
       "27"
      ]
     },
     "execution_count": 34,
     "metadata": {},
     "output_type": "execute_result"
    }
   ],
   "source": [
    "sum((1,5,9,7,5))  # tuple olabilir"
   ]
  },
  {
   "cell_type": "code",
   "execution_count": 35,
   "metadata": {},
   "outputs": [
    {
     "data": {
      "text/plain": [
       "24"
      ]
     },
     "execution_count": 35,
     "metadata": {},
     "output_type": "execute_result"
    }
   ],
   "source": [
    "sum({1,5,8,7,3})  # küme olabilir"
   ]
  },
  {
   "cell_type": "code",
   "execution_count": 36,
   "metadata": {},
   "outputs": [
    {
     "ename": "TypeError",
     "evalue": "unsupported operand type(s) for +: 'int' and 'str'",
     "output_type": "error",
     "traceback": [
      "\u001b[1;31m---------------------------------------------------------------------------\u001b[0m",
      "\u001b[1;31mTypeError\u001b[0m                                 Traceback (most recent call last)",
      "Cell \u001b[1;32mIn[36], line 1\u001b[0m\n\u001b[1;32m----> 1\u001b[0m \u001b[38;5;28;43msum\u001b[39;49m\u001b[43m(\u001b[49m\u001b[43m[\u001b[49m\u001b[38;5;124;43m\"\u001b[39;49m\u001b[38;5;124;43ma\u001b[39;49m\u001b[38;5;124;43m\"\u001b[39;49m\u001b[43m,\u001b[49m\u001b[43m \u001b[49m\u001b[38;5;124;43m\"\u001b[39;49m\u001b[38;5;124;43mb\u001b[39;49m\u001b[38;5;124;43m\"\u001b[39;49m\u001b[43m]\u001b[49m\u001b[43m)\u001b[49m\n",
      "\u001b[1;31mTypeError\u001b[0m: unsupported operand type(s) for +: 'int' and 'str'"
     ]
    }
   ],
   "source": [
    "sum([\"a\", \"b\"])  #string ifadelerde hata veriyor"
   ]
  },
  {
   "cell_type": "code",
   "execution_count": 37,
   "metadata": {},
   "outputs": [
    {
     "data": {
      "text/plain": [
       "124"
      ]
     },
     "execution_count": 37,
     "metadata": {},
     "output_type": "execute_result"
    }
   ],
   "source": [
    "sum({1,5,8,7,3},100) #virgül koyup sayısal bir değer yazarsak toplamı o değerin üstüne yapar"
   ]
  },
  {
   "cell_type": "code",
   "execution_count": null,
   "metadata": {},
   "outputs": [],
   "source": [
    "#1 den 50(50 dahil) çift sayıların toplamını bulan kodu yazdırın."
   ]
  },
  {
   "cell_type": "code",
   "execution_count": 46,
   "metadata": {},
   "outputs": [
    {
     "name": "stdout",
     "output_type": "stream",
     "text": [
      "650\n"
     ]
    }
   ],
   "source": [
    "#yöntem 1\n",
    "\n",
    "toplam = 0\n",
    "\n",
    "for i in range(1,51):\n",
    "\n",
    "    if i % 2 == 0:\n",
    "        toplam += i  \n",
    "\n",
    "print(toplam)          "
   ]
  },
  {
   "cell_type": "code",
   "execution_count": 47,
   "metadata": {},
   "outputs": [
    {
     "name": "stdout",
     "output_type": "stream",
     "text": [
      "650\n"
     ]
    }
   ],
   "source": [
    "# yöntem 2\n",
    "\n",
    "toplam = 0\n",
    "\n",
    "for i in range(0,51,2):\n",
    "\n",
    "    if i % 2 == 0:\n",
    "        toplam += i  \n",
    "\n",
    "print(toplam)"
   ]
  },
  {
   "cell_type": "code",
   "execution_count": 49,
   "metadata": {},
   "outputs": [
    {
     "data": {
      "text/plain": [
       "650"
      ]
     },
     "execution_count": 49,
     "metadata": {},
     "output_type": "execute_result"
    }
   ],
   "source": [
    "#yöntem 3\n",
    "\n",
    "sum(range(0,51,2))"
   ]
  },
  {
   "cell_type": "code",
   "execution_count": 56,
   "metadata": {},
   "outputs": [
    {
     "name": "stdout",
     "output_type": "stream",
     "text": [
      "650\n"
     ]
    }
   ],
   "source": [
    "#yöntem 4 \n",
    "\n",
    "toplam = 0\n",
    "\n",
    "for i in range(1,51):\n",
    "\n",
    "    if i % 2 == 1:  # tek sayı görünce devam et.tek sayıyla ilgili bir işlem yapma\n",
    "        continue\n",
    "    else:\n",
    "        toplam += i\n",
    "\n",
    "print(toplam)        "
   ]
  },
  {
   "cell_type": "markdown",
   "metadata": {},
   "source": [
    "## break, continue"
   ]
  },
  {
   "cell_type": "code",
   "execution_count": 50,
   "metadata": {},
   "outputs": [
    {
     "data": {
      "text/plain": [
       "[1, 2, 3, 4, 5]"
      ]
     },
     "execution_count": 50,
     "metadata": {},
     "output_type": "execute_result"
    }
   ],
   "source": [
    "liste_1 = [1,2,3,4,5]\n",
    "liste_1"
   ]
  },
  {
   "cell_type": "code",
   "execution_count": 54,
   "metadata": {},
   "outputs": [
    {
     "name": "stdout",
     "output_type": "stream",
     "text": [
      "1\n",
      "4\n"
     ]
    }
   ],
   "source": [
    "for i in liste_1:     # liste-1 deki elemanların karelerini bulan kodu yaz ama 3 ve 3 ün katı olan bir sayıya denk gelince kod bitsin diğer durumda sayıların karesini yazdırsın.\n",
    "    \n",
    "    if i % 3 == 0:\n",
    "        break\n",
    "    else:\n",
    "        print(i ** 2)"
   ]
  },
  {
   "cell_type": "code",
   "execution_count": 53,
   "metadata": {},
   "outputs": [
    {
     "name": "stdout",
     "output_type": "stream",
     "text": [
      "1\n",
      "4\n",
      "16\n",
      "25\n"
     ]
    }
   ],
   "source": [
    "for i in liste_1:             # liste-1 deki elemanların karelerini bulan kodu yaz 3 ve 3 ün katı olan bir sayıya denk gelince kod devam etsin ancak işlem yapmasın. \n",
    "                            #diğer durumda sayıların karesini yazdırsın.\n",
    "    if i % 3 == 0:\n",
    "        continue\n",
    "    else:\n",
    "        print(i ** 2)"
   ]
  },
  {
   "cell_type": "markdown",
   "metadata": {},
   "source": [
    "## zip()"
   ]
  },
  {
   "cell_type": "code",
   "execution_count": null,
   "metadata": {},
   "outputs": [],
   "source": [
    "# farklı elemanları eşleştirmek,birleştirmek için kullanırız\n",
    "# bu fonksiyon iterable olan veri tipleri ile çalışır. mesela intiger değer girince hata verir"
   ]
  },
  {
   "cell_type": "code",
   "execution_count": 1,
   "metadata": {},
   "outputs": [],
   "source": [
    "a = [\"apple\", \"orange\", \"lemon\"]\n",
    "b = [1,2,3]"
   ]
  },
  {
   "cell_type": "code",
   "execution_count": 2,
   "metadata": {},
   "outputs": [
    {
     "data": {
      "text/plain": [
       "<zip at 0x1fb285602c0>"
      ]
     },
     "execution_count": 2,
     "metadata": {},
     "output_type": "execute_result"
    }
   ],
   "source": [
    "zip(a,b) # sıkıştırır görmek için list gibi bir fonksiyon kullanırız"
   ]
  },
  {
   "cell_type": "code",
   "execution_count": 3,
   "metadata": {},
   "outputs": [
    {
     "data": {
      "text/plain": [
       "[('apple', 1), ('orange', 2), ('lemon', 3)]"
      ]
     },
     "execution_count": 3,
     "metadata": {},
     "output_type": "execute_result"
    }
   ],
   "source": [
    "list(zip(a,b))"
   ]
  },
  {
   "cell_type": "code",
   "execution_count": 7,
   "metadata": {},
   "outputs": [
    {
     "data": {
      "text/plain": [
       "[(1, 'apple'), (2, 'orange'), (3, 'lemon')]"
      ]
     },
     "execution_count": 7,
     "metadata": {},
     "output_type": "execute_result"
    }
   ],
   "source": [
    "list(zip(b,a))"
   ]
  },
  {
   "cell_type": "code",
   "execution_count": 4,
   "metadata": {},
   "outputs": [],
   "source": [
    "x = \"company\"\n",
    "y = \"cihan\"\n",
    "z = \"ayşe\"   # en küçük ismin karakter sayısı kadar diğer verilerden eleman çekiyor"
   ]
  },
  {
   "cell_type": "code",
   "execution_count": 6,
   "metadata": {},
   "outputs": [
    {
     "data": {
      "text/plain": [
       "[('c', 'c', 'a'), ('o', 'i', 'y'), ('m', 'h', 'ş'), ('p', 'a', 'e')]"
      ]
     },
     "execution_count": 6,
     "metadata": {},
     "output_type": "execute_result"
    }
   ],
   "source": [
    "list(zip(x,y,z))"
   ]
  },
  {
   "cell_type": "code",
   "execution_count": 8,
   "metadata": {},
   "outputs": [
    {
     "data": {
      "text/plain": [
       "{'apple': 1, 'orange': 2, 'lemon': 3}"
      ]
     },
     "execution_count": 8,
     "metadata": {},
     "output_type": "execute_result"
    }
   ],
   "source": [
    "dict(zip(a,b))  #mesela burada dict fobksiyonunu kullanarak zipi() i çağırdık"
   ]
  },
  {
   "cell_type": "code",
   "execution_count": 9,
   "metadata": {},
   "outputs": [],
   "source": [
    "meyveler = [\"apple\", \"orange\", \"apple\"] #iki tane aynı değer olunca sonuncusunu aldı\n",
    "adet = [1,2,3]"
   ]
  },
  {
   "cell_type": "code",
   "execution_count": 10,
   "metadata": {},
   "outputs": [
    {
     "data": {
      "text/plain": [
       "{'apple': 3, 'orange': 2}"
      ]
     },
     "execution_count": 10,
     "metadata": {},
     "output_type": "execute_result"
    }
   ],
   "source": [
    "dict(zip(meyveler,adet)) "
   ]
  },
  {
   "cell_type": "code",
   "execution_count": 3,
   "metadata": {},
   "outputs": [],
   "source": [
    "name = [\"irem\", \"betül\", \"tülay\"]\n",
    "age = [25,26,27]\n",
    "job = [\"data_scientist\", \"python_developer\", \"data_analyst\"]"
   ]
  },
  {
   "cell_type": "code",
   "execution_count": 4,
   "metadata": {},
   "outputs": [
    {
     "data": {
      "text/plain": [
       "[('irem', 25, 'data_scientist'),\n",
       " ('betül', 26, 'python_developer'),\n",
       " ('tülay', 27, 'data_analyst')]"
      ]
     },
     "execution_count": 4,
     "metadata": {},
     "output_type": "execute_result"
    }
   ],
   "source": [
    "list(zip(name,age,job))"
   ]
  },
  {
   "cell_type": "code",
   "execution_count": 5,
   "metadata": {},
   "outputs": [
    {
     "name": "stdout",
     "output_type": "stream",
     "text": [
      "('irem', 25, 'data_scientist')\n",
      "('betül', 26, 'python_developer')\n",
      "('tülay', 27, 'data_analyst')\n"
     ]
    }
   ],
   "source": [
    "for item in zip(name,age,job):\n",
    "    print(item)"
   ]
  },
  {
   "cell_type": "code",
   "execution_count": 6,
   "metadata": {},
   "outputs": [
    {
     "name": "stdout",
     "output_type": "stream",
     "text": [
      "name: irem, age: 25, job: data_scientist\n",
      "name: betül, age: 26, job: python_developer\n",
      "name: tülay, age: 27, job: data_analyst\n"
     ]
    }
   ],
   "source": [
    "for i,j,k in zip(name,age,job):  \n",
    "    print(f\"name: {i}, age: {j}, job: {k}\")"
   ]
  },
  {
   "cell_type": "code",
   "execution_count": 8,
   "metadata": {},
   "outputs": [
    {
     "ename": "ValueError",
     "evalue": "too many values to unpack (expected 2)",
     "output_type": "error",
     "traceback": [
      "\u001b[1;31m---------------------------------------------------------------------------\u001b[0m",
      "\u001b[1;31mValueError\u001b[0m                                Traceback (most recent call last)",
      "Cell \u001b[1;32mIn[8], line 1\u001b[0m\n\u001b[1;32m----> 1\u001b[0m \u001b[38;5;28;01mfor\u001b[39;00m i,j \u001b[38;5;129;01min\u001b[39;00m \u001b[38;5;28mzip\u001b[39m(name,age,job):\n\u001b[0;32m      2\u001b[0m     \u001b[38;5;28mprint\u001b[39m(\u001b[38;5;124mf\u001b[39m\u001b[38;5;124m\"\u001b[39m\u001b[38;5;124mname: \u001b[39m\u001b[38;5;132;01m{\u001b[39;00mi\u001b[38;5;132;01m:\u001b[39;00m\u001b[38;5;124m<6\u001b[39m\u001b[38;5;132;01m}\u001b[39;00m\u001b[38;5;124m, age: \u001b[39m\u001b[38;5;132;01m{\u001b[39;00mj\u001b[38;5;132;01m}\u001b[39;00m\u001b[38;5;124m\"\u001b[39m)\n",
      "\u001b[1;31mValueError\u001b[0m: too many values to unpack (expected 2)"
     ]
    }
   ],
   "source": [
    "for i,j in zip(name,age,job):   # iki değişken adı var ama istenen data üç başlık altında datayı ikiye bölemiyor ve hata veriyor \n",
    "    print(f\"name: {i:<6}, age: {j}\")"
   ]
  },
  {
   "cell_type": "markdown",
   "metadata": {},
   "source": [
    "## enumerate()"
   ]
  },
  {
   "cell_type": "code",
   "execution_count": 9,
   "metadata": {},
   "outputs": [
    {
     "data": {
      "text/plain": [
       "['irem', 'betül', 'tülay']"
      ]
     },
     "execution_count": 9,
     "metadata": {},
     "output_type": "execute_result"
    }
   ],
   "source": [
    "name"
   ]
  },
  {
   "cell_type": "code",
   "execution_count": 10,
   "metadata": {},
   "outputs": [
    {
     "data": {
      "text/plain": [
       "<enumerate at 0x16936afa520>"
      ]
     },
     "execution_count": 10,
     "metadata": {},
     "output_type": "execute_result"
    }
   ],
   "source": [
    "enumerate(name) # listenin elemanlarıa numara verdik"
   ]
  },
  {
   "cell_type": "code",
   "execution_count": 11,
   "metadata": {},
   "outputs": [
    {
     "data": {
      "text/plain": [
       "[(0, 'irem'), (1, 'betül'), (2, 'tülay')]"
      ]
     },
     "execution_count": 11,
     "metadata": {},
     "output_type": "execute_result"
    }
   ],
   "source": [
    "list(enumerate(name))"
   ]
  },
  {
   "cell_type": "code",
   "execution_count": 12,
   "metadata": {},
   "outputs": [
    {
     "data": {
      "text/plain": [
       "[(100, 'irem'), (101, 'betül'), (102, 'tülay')]"
      ]
     },
     "execution_count": 12,
     "metadata": {},
     "output_type": "execute_result"
    }
   ],
   "source": [
    "list(enumerate(name, 100))  # numaralandırmaya 100 den başlamasını istedik"
   ]
  },
  {
   "cell_type": "code",
   "execution_count": 14,
   "metadata": {},
   "outputs": [],
   "source": [
    "number_list = [48,10,11,21,36,5,6,52,28,29,53,54,4,    # listenin min ve max değerleri arasındaki sayıları bulun.\n",
    "        5,19,20,47,55,39,41,7,9,17,26,27,42,22,37,\n",
    "        51,46,18,44,30,34,13,15,35,33,16,50,24]"
   ]
  },
  {
   "cell_type": "code",
   "execution_count": 15,
   "metadata": {},
   "outputs": [
    {
     "name": "stdout",
     "output_type": "stream",
     "text": [
      "[8, 12, 14, 23, 25, 31, 32, 38, 40, 43, 45, 49]\n"
     ]
    }
   ],
   "source": [
    "#çözüm 1\n",
    "kayıp_sayılar = []\n",
    "\n",
    "for i in range(min(number_list),max(number_list)):\n",
    "\n",
    "    if i not in number_list:\n",
    "        kayıp_sayılar.append(i)\n",
    "\n",
    "print(kayıp_sayılar)        "
   ]
  },
  {
   "cell_type": "code",
   "execution_count": 16,
   "metadata": {},
   "outputs": [
    {
     "name": "stdout",
     "output_type": "stream",
     "text": [
      "[8, 12, 14, 23, 25, 31, 32, 38, 40, 43, 45, 49]\n"
     ]
    }
   ],
   "source": [
    "#çözüm 2\n",
    "kayıp_sayılar = []\n",
    "\n",
    "for i in range(min(number_list),max(number_list)):\n",
    "\n",
    "    if i  in number_list:\n",
    "        continue\n",
    "\n",
    "    kayıp_sayılar.append(i)\n",
    "\n",
    "print(kayıp_sayılar)  "
   ]
  },
  {
   "cell_type": "code",
   "execution_count": 18,
   "metadata": {},
   "outputs": [
    {
     "data": {
      "text/plain": [
       "{8, 12, 14, 23, 25, 31, 32, 38, 40, 43, 45, 49}"
      ]
     },
     "execution_count": 18,
     "metadata": {},
     "output_type": "execute_result"
    }
   ],
   "source": [
    "# çözüm 3\n",
    "\n",
    "full_set = set(range(min(number_list),max(number_list)))\n",
    "\n",
    "number_set = set(number_list)\n",
    "\n",
    "full_set - number_set"
   ]
  },
  {
   "cell_type": "code",
   "execution_count": null,
   "metadata": {},
   "outputs": [],
   "source": []
  },
  {
   "cell_type": "code",
   "execution_count": null,
   "metadata": {},
   "outputs": [],
   "source": []
  }
 ],
 "metadata": {
  "kernelspec": {
   "display_name": "Python 3",
   "language": "python",
   "name": "python3"
  },
  "language_info": {
   "codemirror_mode": {
    "name": "ipython",
    "version": 3
   },
   "file_extension": ".py",
   "mimetype": "text/x-python",
   "name": "python",
   "nbconvert_exporter": "python",
   "pygments_lexer": "ipython3",
   "version": "3.11.0"
  }
 },
 "nbformat": 4,
 "nbformat_minor": 2
}
