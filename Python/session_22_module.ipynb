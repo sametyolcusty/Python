{
 "cells": [
  {
   "cell_type": "code",
   "execution_count": 11,
   "metadata": {},
   "outputs": [
    {
     "ename": "ModuleNotFoundError",
     "evalue": "No module named 'my_module'",
     "output_type": "error",
     "traceback": [
      "\u001b[1;31m---------------------------------------------------------------------------\u001b[0m",
      "\u001b[1;31mModuleNotFoundError\u001b[0m                       Traceback (most recent call last)",
      "Cell \u001b[1;32mIn[11], line 1\u001b[0m\n\u001b[1;32m----> 1\u001b[0m \u001b[38;5;28;01mimport\u001b[39;00m \u001b[38;5;21;01mmy_module\u001b[39;00m\n",
      "\u001b[1;31mModuleNotFoundError\u001b[0m: No module named 'my_module'"
     ]
    }
   ],
   "source": [
    "import my_module #burada önceden oluşturduğumuz modullere ulaşabşlmek için oluşturduğumuz modulu python lib dosyasına ekleme yapmamız lazım"
   ]
  },
  {
   "cell_type": "code",
   "execution_count": 1,
   "metadata": {},
   "outputs": [],
   "source": [
    "import my_module #ekledikten sonra çalıştı"
   ]
  },
  {
   "cell_type": "code",
   "execution_count": 2,
   "metadata": {},
   "outputs": [
    {
     "data": {
      "text/plain": [
       "5"
      ]
     },
     "execution_count": 2,
     "metadata": {},
     "output_type": "execute_result"
    }
   ],
   "source": [
    "my_module.my_len(\"kerem\")"
   ]
  },
  {
   "cell_type": "code",
   "execution_count": 8,
   "metadata": {},
   "outputs": [],
   "source": [
    "def tas_kagit_makas():\n",
    "\n",
    "    a = input(\"taş kağıt makas oynamak ister misin? (evet veya hayır)\").lower()\n",
    "\n",
    "    import time\n",
    "    import random\n",
    "    pc_list = [\"t\",\"k\",\"m\"]\n",
    "\n",
    "    while a == \"evet\":\n",
    "\n",
    "\n",
    "        pc = pc_list[random.randint(0,2)]\n",
    "\n",
    "        time.sleep(1)\n",
    "\n",
    "        you = input(\"birini seç: t: taş, m: makas, k: kağıt\").lower()\n",
    "\n",
    "        if (pc == \"t\" and you == \"m\") or (pc == \"m\" and you == \"k\") or (pc == \"k\" and you == \"t\"):\n",
    "            \n",
    "            print(\"kazanan bilgisayar\")\n",
    "\n",
    "        elif  (pc == \"m\" and you == \"t\") or (pc == \"k\" and you == \"m\") or (pc == \"t\" and you == \"k\"):\n",
    "            \n",
    "            print(\"kazanan sensin\")\n",
    "\n",
    "        elif  (pc == \"m\" and you == \"m\") or (pc == \"k\" and you == \"k\") or (pc == \"t\" and you == \"t\"):\n",
    "            \n",
    "            print(\"berabere\")\n",
    "\n",
    "        else:\n",
    "            print(\"hatalı giriş\")\n",
    "\n",
    "        time.sleep(1)\n",
    "\n",
    "        a = input(\"taş kağıt makas oyununa devam etmek ister misin?(evet veya hayır)\").lower()\n",
    "\n",
    "    print(\"oyun bitti\")          \n"
   ]
  },
  {
   "cell_type": "code",
   "execution_count": 9,
   "metadata": {},
   "outputs": [
    {
     "name": "stdout",
     "output_type": "stream",
     "text": [
      "kazanan bilgisayar\n",
      "oyun bitti\n"
     ]
    }
   ],
   "source": [
    "tas_kagit_makas()"
   ]
  },
  {
   "cell_type": "code",
   "execution_count": 10,
   "metadata": {},
   "outputs": [],
   "source": [
    "import oyun  #oyunu önce ipynb uzantısında oluşturduk ve denedik çalışıyor.Daha sonra oyunun başına def tas_kagit_makas(): yazarak oyunu bir fonksiyon\n",
    "#haline getirdik.daha sonra oyun.py uzantılı sayfamıza oyunu ekledik.bu pytoh sayfasını python lib kısmına yapıştırarak artık bir modul haline getirdik."
   ]
  },
  {
   "cell_type": "code",
   "execution_count": 11,
   "metadata": {},
   "outputs": [
    {
     "name": "stdout",
     "output_type": "stream",
     "text": [
      "kazanan sensin\n",
      "oyun bitti\n"
     ]
    }
   ],
   "source": [
    "oyun.tas_kagit_makas()"
   ]
  },
  {
   "cell_type": "code",
   "execution_count": null,
   "metadata": {},
   "outputs": [],
   "source": []
  }
 ],
 "metadata": {
  "kernelspec": {
   "display_name": "Python 3",
   "language": "python",
   "name": "python3"
  },
  "language_info": {
   "codemirror_mode": {
    "name": "ipython",
    "version": 3
   },
   "file_extension": ".py",
   "mimetype": "text/x-python",
   "name": "python",
   "nbconvert_exporter": "python",
   "pygments_lexer": "ipython3",
   "version": "3.11.0"
  }
 },
 "nbformat": 4,
 "nbformat_minor": 2
}
